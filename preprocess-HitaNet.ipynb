{
 "cells": [
  {
   "cell_type": "code",
   "execution_count": 17,
   "id": "67033012-3ce4-4478-9db8-bea2a9a64233",
   "metadata": {},
   "outputs": [],
   "source": [
    "import os\n",
    "import pickle\n",
    "import pandas as pd\n",
    "import numpy as np\n",
    "from tqdm import tqdm\n",
    "from sklearn.preprocessing import OneHotEncoder\n",
    "from sklearn.model_selection import train_test_split"
   ]
  },
  {
   "cell_type": "code",
   "execution_count": 18,
   "id": "f0a01267-870f-4b8a-9426-49c142346d3c",
   "metadata": {},
   "outputs": [],
   "source": [
    "path = '/data/notebook/shared/MIMIC-IV'"
   ]
  },
  {
   "cell_type": "code",
   "execution_count": 19,
   "id": "d42b3083-a863-42cc-b0e3-291667862866",
   "metadata": {},
   "outputs": [],
   "source": [
    "with open(os.path.join(path, 'total_data_dict_with_timedelta_nomedi_with_code_label_240423_clinic_3_years.pkl'), 'rb') as f:\n",
    "    data_dict_d = pickle.load(f)\n",
    "f.close()"
   ]
  },
  {
   "cell_type": "code",
   "execution_count": 20,
   "id": "56e5f9f9-32ae-4247-a2b1-a1ce1057ad7f",
   "metadata": {},
   "outputs": [
    {
     "name": "stderr",
     "output_type": "stream",
     "text": [
      "100%|██████████| 8037/8037 [00:00<00:00, 792421.75it/s]\n"
     ]
    }
   ],
   "source": [
    "total_labels = []\n",
    "code_labels = []\n",
    "clinical_labels = []\n",
    "# code_seq = []\n",
    "# time_delta_list = []\n",
    "\n",
    "for sample_id, visits in tqdm(data_dict_d.items()):\n",
    "    # 레이블 추가\n",
    "    total_label = visits['total_label']\n",
    "    code_label = visits['code_label']\n",
    "    clinical_label = visits['clinical_label']\n",
    "    total_labels.append(total_label)\n",
    "    code_labels.append(code_label)\n",
    "    # clinical_labels.append(clinical_labels)\n",
    "    # code_seq.append([visits['year']])\n",
    "    # time_delta_list.append(visits['timedelta'])"
   ]
  },
  {
   "cell_type": "code",
   "execution_count": 24,
   "id": "46f52931-a5f2-40fe-92f6-33d968c2cb37",
   "metadata": {},
   "outputs": [],
   "source": [
    "train_indices, test_indices, train_y, test_y = train_test_split(list(data_dict_d.keys()), total_labels, test_size=0.1, random_state=777, stratify=total_labels)\n",
    "train_indices, valid_indices, valid_y, valid_y = train_test_split(train_indices, train_y, test_size=(len(test_indices)/len(train_indices)), random_state=777, stratify=train_y) "
   ]
  },
  {
   "cell_type": "code",
   "execution_count": 25,
   "id": "b6e0e694-7455-4a00-b615-4d03cf00c55b",
   "metadata": {},
   "outputs": [
    {
     "name": "stderr",
     "output_type": "stream",
     "text": [
      "100%|██████████| 6429/6429 [00:00<00:00, 1114954.74it/s]\n",
      "100%|██████████| 804/804 [00:00<00:00, 866671.91it/s]\n",
      "100%|██████████| 804/804 [00:00<00:00, 865559.66it/s]\n"
     ]
    }
   ],
   "source": [
    "train_data = {}\n",
    "valid_data = {}\n",
    "test_data = {}\n",
    "for sample in tqdm(train_indices):\n",
    "    train_data[sample] = data_dict_d[sample]\n",
    "\n",
    "for sample in tqdm(valid_indices):\n",
    "    valid_data[sample] = data_dict_d[sample]\n",
    "\n",
    "for sample in tqdm(test_indices):\n",
    "    test_data[sample] = data_dict_d[sample]"
   ]
  },
  {
   "cell_type": "code",
   "execution_count": 45,
   "id": "120a22a9-81c7-4136-8699-5eee76faf2d7",
   "metadata": {},
   "outputs": [
    {
     "name": "stderr",
     "output_type": "stream",
     "text": [
      "100%|██████████| 6429/6429 [00:00<00:00, 440370.07it/s]\n"
     ]
    }
   ],
   "source": [
    "tr_labels = []\n",
    "tr_code_labels = []\n",
    "tr_clinical_labels = []\n",
    "tr_code_seq = []\n",
    "tr_time_delta_list = []\n",
    "\n",
    "for sample_id, visits in tqdm(train_data.items()):\n",
    "    # 레이블 추가\n",
    "    total_label = visits['total_label']\n",
    "    code_label = visits['code_label']\n",
    "    clinical_label = visits['clinical_label']\n",
    "    tr_labels.append(total_label)\n",
    "    tr_code_labels.append(code_label)\n",
    "    tr_clinical_labels.append(clinical_labels)\n",
    "    tr_code_seq.extend([visits['year']])\n",
    "    tr_time_delta_list.append(visits['timedelta'])"
   ]
  },
  {
   "cell_type": "code",
   "execution_count": 46,
   "id": "c5748e5a-4c6d-4a75-966e-ab0341a5ec2d",
   "metadata": {},
   "outputs": [
    {
     "name": "stderr",
     "output_type": "stream",
     "text": [
      "100%|██████████| 804/804 [00:00<00:00, 394734.92it/s]\n"
     ]
    }
   ],
   "source": [
    "val_labels = []\n",
    "val_code_labels = []\n",
    "val_clinical_labels = []\n",
    "val_code_seq = []\n",
    "val_time_delta_list = []\n",
    "\n",
    "for sample_id, visits in tqdm(valid_data.items()):\n",
    "    # 레이블 추가\n",
    "    total_label = visits['total_label']\n",
    "    code_label = visits['code_label']\n",
    "    clinical_label = visits['clinical_label']\n",
    "    val_labels.append(total_label)\n",
    "    val_code_labels.append(code_label)\n",
    "    val_clinical_labels.append(clinical_labels)\n",
    "    val_code_seq.extend([visits['year']])\n",
    "    val_time_delta_list.append(visits['timedelta'])"
   ]
  },
  {
   "cell_type": "code",
   "execution_count": 47,
   "id": "3b03e3a0-75c8-4d65-a2fd-9e6fa0fa9cce",
   "metadata": {},
   "outputs": [
    {
     "name": "stderr",
     "output_type": "stream",
     "text": [
      "100%|██████████| 804/804 [00:00<00:00, 382815.35it/s]\n"
     ]
    }
   ],
   "source": [
    "te_labels = []\n",
    "te_code_labels = []\n",
    "te_clinical_labels = []\n",
    "te_code_seq = []\n",
    "te_time_delta_list = []\n",
    "\n",
    "for sample_id, visits in tqdm(test_data.items()):\n",
    "    # 레이블 추가\n",
    "    total_label = visits['total_label']\n",
    "    code_label = visits['code_label']\n",
    "    clinical_label = visits['clinical_label']\n",
    "    te_labels.append(total_label)\n",
    "    te_code_labels.append(code_label)\n",
    "    te_clinical_labels.append(clinical_labels)\n",
    "    te_code_seq.extend([visits['year']])\n",
    "    te_time_delta_list.append(visits['timedelta'])"
   ]
  },
  {
   "cell_type": "code",
   "execution_count": 48,
   "id": "ee302238-60c2-42cd-996e-c59f1030f1f7",
   "metadata": {},
   "outputs": [],
   "source": [
    "hitanet_train = [tr_code_seq, tr_labels, tr_time_delta_list]\n",
    "hitanet_valid = [val_code_seq, val_labels, val_time_delta_list]\n",
    "hitanet_test = [te_code_seq, te_labels, te_time_delta_list]"
   ]
  },
  {
   "cell_type": "code",
   "execution_count": 49,
   "id": "7b3bfc72-dff7-4e5c-8479-03423742fbbf",
   "metadata": {},
   "outputs": [],
   "source": [
    "with open('./data/Hitanet/train_HT_777.pkl', 'wb') as f:\n",
    "    pickle.dump(hitanet_train, f)\n",
    "\n",
    "with open('./data/Hitanet/valid_HT_777.pkl', 'wb') as f:\n",
    "    pickle.dump(hitanet_valid, f)\n",
    "    \n",
    "with open('./data/Hitanet/test_HT_777.pkl', 'wb') as f:\n",
    "    pickle.dump(hitanet_test, f)"
   ]
  },
  {
   "cell_type": "code",
   "execution_count": 44,
   "id": "f6fc29ec-8b2d-4826-a020-2b40dbcbb5ed",
   "metadata": {},
   "outputs": [
    {
     "data": {
      "text/plain": [
       "[[638, 6707, 8107, 812, 10506, 812, 10506, 812, 10506],\n",
       " [5627, 6937, 5425, 12701, 12701, 12701],\n",
       " [2323, 1622, 5958, 12701, 12701, 12701]]"
      ]
     },
     "execution_count": 44,
     "metadata": {},
     "output_type": "execute_result"
    }
   ],
   "source": [
    "hitanet_train[0][0][0]"
   ]
  },
  {
   "cell_type": "code",
   "execution_count": 40,
   "id": "21adc47b-e4ae-47b9-86fe-912f192451d6",
   "metadata": {},
   "outputs": [
    {
     "data": {
      "text/plain": [
       "6429"
      ]
     },
     "execution_count": 40,
     "metadata": {},
     "output_type": "execute_result"
    }
   ],
   "source": [
    "len(hitanet_train[2])"
   ]
  },
  {
   "cell_type": "code",
   "execution_count": 7,
   "id": "b9fbb752-0c57-416b-8ef5-77efc573805d",
   "metadata": {},
   "outputs": [
    {
     "name": "stdout",
     "output_type": "stream",
     "text": [
      "max_visit: 49\n",
      "max_code_len: 27\n"
     ]
    }
   ],
   "source": [
    "np.unique(total_label, return_counts=True)\n",
    "np.mean(length_list)\n",
    "np.std(length_list)\n",
    "\n",
    "# max_visits_length = max(length_list)\n",
    "max_index = max(dtype_dict.values())\n",
    "max_code_len = max(code_length_list)\n",
    "# print('max_index:', max_index+1)\n",
    "print('max_visit:', max_visits_length)\n",
    "print('max_code_len:', max_code_len)"
   ]
  },
  {
   "cell_type": "code",
   "execution_count": 121,
   "id": "351143bf-890a-491f-8d28-c7d4c83a168f",
   "metadata": {},
   "outputs": [],
   "source": [
    "def pad_sequence(seq_diagnosis_codes, maxlen, maxcode):\n",
    "    lengths = len(data['year'])\n",
    "    diagnosis_codes = np.zeros((maxlen, maxcode), dtype=np.int64)\n",
    "    seq_mask_code = np.zeros((maxlen, maxcode), dtype=np.int8)\n",
    "    seq_mask = np.zeros((maxlen), dtype=np.int8)\n",
    "    seq_mask_final = np.zeros((maxlen), dtype=np.int8)\n",
    "    for pid, subseq in enumerate(seq_diagnosis_codes):\n",
    "        for tid, code in enumerate(subseq):\n",
    "            diagnosis_codes[pid, tid] = code\n",
    "            seq_mask_code[pid, tid] = 1\n",
    "    seq_mask[:lengths] = 1\n",
    "    seq_mask_final[lengths - 1] = 1\n",
    "    return diagnosis_codes, seq_mask_code, seq_mask, seq_mask_final"
   ]
  },
  {
   "cell_type": "code",
   "execution_count": 122,
   "id": "012d7cb4-7b2c-4fe9-ac48-083edb2c2984",
   "metadata": {},
   "outputs": [],
   "source": [
    "def keep_last_one_in_columns(a):\n",
    "    # 결과 배열 초기화\n",
    "    result = np.zeros_like(a)\n",
    "    # 각 열에 대해 반복\n",
    "    for col_index in range(a.shape[1]):\n",
    "        # 현재 열 추출\n",
    "        column = a[:, col_index]\n",
    "        # 이 열에서 마지막 '1' 찾기\n",
    "        last_one_idx = np.max(np.where(column == 1)[0]) if 1 in column else None\n",
    "        if last_one_idx is not None:\n",
    "            result[last_one_idx, col_index] = 1\n",
    "    return result"
   ]
  },
  {
   "cell_type": "code",
   "execution_count": 123,
   "id": "0b9f00a4-7c21-4bd9-8faa-5eb96f08ce3f",
   "metadata": {},
   "outputs": [
    {
     "name": "stderr",
     "output_type": "stream",
     "text": [
      "100%|██████████| 8037/8037 [00:02<00:00, 2828.19it/s]\n"
     ]
    }
   ],
   "source": [
    "new_data_dict_d = {}\n",
    "year_list = []\n",
    "for sample_id, data in tqdm(data_dict_d.items()):\n",
    "    data_dict_new = {}\n",
    "    # pad_seq, seq_mask_code = pad_sequence(data['year'], max_visits_length, max_code_len)\n",
    "    pad_seq, seq_mask_code, seq_mask, seq_mask_final = pad_sequence(data['year'], max_visits_length, max_code_len)\n",
    "    data_dict_new['code_index'] = pad_seq\n",
    "    data_dict_new['code'] = data['code']\n",
    "    data_dict_new['time'] = data['time']\n",
    "    data_dict_new['timedelta'] = data['timedelta']\n",
    "    time_feature = np.array([[timestamp.year, timestamp.month, timestamp.day, timestamp.week] for timestamp in data['time']])\n",
    "    data_dict_new['time_feature'] = np.pad(time_feature, pad_width=((0, max_visits_length - time_feature.shape[0]),(0,0)))\n",
    "    data_dict_new['year'] = np.array([timestamp.year for timestamp in data['time']])\n",
    "    # data_dict_new['seq_mask'] = np.pad(np.ones(time_feature.shape[0]), (0, max_visits_length - time_feature.shape[0]))\n",
    "    data_dict_new['seq_mask'] = seq_mask\n",
    "    data_dict_new['seq_mask_final'] = seq_mask_final\n",
    "    data_dict_new['seq_mask_code'] = seq_mask_code\n",
    "    unique_year = np.unique(data_dict_new['year'])\n",
    "    if len(unique_year) == 2:\n",
    "        # print(\"two year sample\", sample_id)\n",
    "        unique_year = np.append(unique_year, unique_year[-1]+1)\n",
    "    elif len(unique_year) == 1:\n",
    "        # print(\"one year sample\", sample_id)\n",
    "        continue\n",
    "    encoder = OneHotEncoder(categories=[unique_year], sparse=False, handle_unknown='ignore')\n",
    "    year_onehot =  encoder.fit_transform(np.array(data_dict_new['year']).reshape(-1,1))\n",
    "    last_year_visit = keep_last_one_in_columns(year_onehot)\n",
    "    data_dict_new['year_onehot'] = np.pad(year_onehot, pad_width=((0, max_visits_length - year_onehot.shape[0]), (0,0)))\n",
    "    data_dict_new['last_year_onehot'] = np.pad(last_year_visit, pad_width=((0, max_visits_length - year_onehot.shape[0]), (0,0)))\n",
    "    data_dict_new['label'] = data['total_label']    \n",
    "    data_dict_new['code_label'] = data['code_label']    \n",
    "    data_dict_new['clinical_label'] = data['clinical_label']    \n",
    "    new_data_dict_d[sample_id] = data_dict_new"
   ]
  },
  {
   "cell_type": "code",
   "execution_count": 124,
   "id": "4d762d0d-5174-47c4-b134-2f9801f60363",
   "metadata": {},
   "outputs": [],
   "source": [
    "with open(os.path.join('./data/', 'preprocessed_nomedi_240423_clinic_3_years.pkl'), 'wb') as f:\n",
    "    pickle.dump(new_data_dict_d, f)\n",
    "f.close()"
   ]
  },
  {
   "cell_type": "code",
   "execution_count": 107,
   "id": "07c2c3e4-170d-4cb8-81ab-27aba6534eec",
   "metadata": {},
   "outputs": [
    {
     "data": {
      "text/plain": [
       "'/data/notebook/shared/MIMIC-IV/total_data_dict_with_timedelta_nomedi_240421_clinic_3_years.pkl'"
      ]
     },
     "execution_count": 107,
     "metadata": {},
     "output_type": "execute_result"
    }
   ],
   "source": [
    "os.path.join(path, 'total_data_dict_with_timedelta_nomedi_240421_clinic_3_years.pkl')"
   ]
  },
  {
   "cell_type": "code",
   "execution_count": 108,
   "id": "2c83c8f3-0bda-412c-9485-c0a41a9e42d6",
   "metadata": {},
   "outputs": [
    {
     "data": {
      "text/plain": [
       "array([[1, 1, 1, ..., 0, 0, 0],\n",
       "       [1, 1, 1, ..., 0, 0, 0],\n",
       "       [1, 1, 1, ..., 0, 0, 0],\n",
       "       ...,\n",
       "       [0, 0, 0, ..., 0, 0, 0],\n",
       "       [0, 0, 0, ..., 0, 0, 0],\n",
       "       [0, 0, 0, ..., 0, 0, 0]], dtype=int8)"
      ]
     },
     "execution_count": 108,
     "metadata": {},
     "output_type": "execute_result"
    }
   ],
   "source": [
    "np.outer(seq_mask, seq_mask)"
   ]
  },
  {
   "cell_type": "code",
   "execution_count": null,
   "id": "d80e6711-b932-49d1-94aa-070e13e2caa1",
   "metadata": {},
   "outputs": [],
   "source": [
    "[[1, 0, 0, 0, 0],\n",
    " [1, 1, 0, 0, 0],\n",
    " [0, 1, 1, 0, 0],\n",
    " [0, 0, 1, 1, 0],\n",
    " [0, 0, 0, 1, 1]]"
   ]
  }
 ],
 "metadata": {
  "kernelspec": {
   "display_name": "Python 3 (ipykernel)",
   "language": "python",
   "name": "python3"
  },
  "language_info": {
   "codemirror_mode": {
    "name": "ipython",
    "version": 3
   },
   "file_extension": ".py",
   "mimetype": "text/x-python",
   "name": "python",
   "nbconvert_exporter": "python",
   "pygments_lexer": "ipython3",
   "version": "3.8.10"
  }
 },
 "nbformat": 4,
 "nbformat_minor": 5
}
