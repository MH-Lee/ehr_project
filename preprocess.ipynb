{
 "cells": [
  {
   "cell_type": "code",
   "execution_count": 110,
   "id": "67033012-3ce4-4478-9db8-bea2a9a64233",
   "metadata": {},
   "outputs": [],
   "source": [
    "import os\n",
    "import pickle\n",
    "import pandas as pd\n",
    "import numpy as np\n",
    "from tqdm import tqdm\n",
    "from sklearn.preprocessing import OneHotEncoder"
   ]
  },
  {
   "cell_type": "code",
   "execution_count": 111,
   "id": "f0a01267-870f-4b8a-9426-49c142346d3c",
   "metadata": {},
   "outputs": [],
   "source": [
    "path = '/data/notebook/shared/MIMIC-IV'"
   ]
  },
  {
   "cell_type": "code",
   "execution_count": 112,
   "id": "d42b3083-a863-42cc-b0e3-291667862866",
   "metadata": {},
   "outputs": [],
   "source": [
    "with open(os.path.join(path, 'dict_types_mimic_240408_clinic_3_years.pkl'), 'rb') as f:\n",
    "    dtype_dict = pickle.load(f)\n",
    "f.close()\n",
    "\n",
    "with open(os.path.join(path, 'total_data_dict_with_timedelta_nomedi_with_code_label_240423_clinic_3_years.pkl'), 'rb') as f:\n",
    "    data_dict_d = pickle.load(f)\n",
    "f.close()"
   ]
  },
  {
   "cell_type": "code",
   "execution_count": 114,
   "id": "92895ed2-877e-4b9f-83e8-5cf626cfe6c0",
   "metadata": {},
   "outputs": [
    {
     "data": {
      "text/plain": [
       "{'year': [[11138,\n",
       "   4912,\n",
       "   4102,\n",
       "   1074,\n",
       "   12382,\n",
       "   1121,\n",
       "   6778,\n",
       "   2120,\n",
       "   1074,\n",
       "   12382,\n",
       "   1121,\n",
       "   6778,\n",
       "   2120,\n",
       "   1074,\n",
       "   12382,\n",
       "   1121,\n",
       "   6778,\n",
       "   2120],\n",
       "  [4912, 9277, 9733, 12701, 12701, 12701],\n",
       "  [4912, 3176, 9733, 12701, 12701, 12701],\n",
       "  [9733, 4912, 10835, 7203, 7203, 7203]],\n",
       " 'code': [['d_41011',\n",
       "   'd_486',\n",
       "   'd_42821',\n",
       "   'p_0066',\n",
       "   'p_3606',\n",
       "   'p_3723',\n",
       "   'p_8856',\n",
       "   'p_0045',\n",
       "   'p_0066',\n",
       "   'p_3606',\n",
       "   'p_3723',\n",
       "   'p_8856',\n",
       "   'p_0045',\n",
       "   'p_0066',\n",
       "   'p_3606',\n",
       "   'p_3723',\n",
       "   'p_8856',\n",
       "   'p_0045'],\n",
       "  ['d_486', 'd_5849', 'd_1628', 'procedure_0', 'procedure_0', 'procedure_0'],\n",
       "  ['d_486', 'd_51881', 'd_1628', 'procedure_0', 'procedure_0', 'procedure_0'],\n",
       "  ['d_1628', 'd_486', 'd_51884', 'p_3491', 'p_3491', 'p_3491']],\n",
       " 'time': [Timestamp('2129-08-04 00:00:00'),\n",
       "  Timestamp('2129-12-23 22:40:00'),\n",
       "  Timestamp('2130-09-24 03:55:00'),\n",
       "  Timestamp('2131-03-10 00:00:00')],\n",
       " 'timedelta': [583, 441, 166, 0],\n",
       " 'total_label': 0,\n",
       " 'code_label': 0,\n",
       " 'clinical_label': 0}"
      ]
     },
     "execution_count": 114,
     "metadata": {},
     "output_type": "execute_result"
    }
   ],
   "source": [
    "visits"
   ]
  },
  {
   "cell_type": "code",
   "execution_count": 119,
   "id": "56e5f9f9-32ae-4247-a2b1-a1ce1057ad7f",
   "metadata": {},
   "outputs": [
    {
     "name": "stderr",
     "output_type": "stream",
     "text": [
      "100%|██████████| 8037/8037 [00:00<00:00, 296119.23it/s]\n"
     ]
    }
   ],
   "source": [
    "total_labels = []\n",
    "code_labels = []\n",
    "length_list = []\n",
    "clinical_labels = []\n",
    "code_length_list = []\n",
    "for sample_id, visits in tqdm(data_dict_d.items()):\n",
    "    # 레이블 추가\n",
    "    total_label = visits['total_label']\n",
    "    code_label = visits['code_label']\n",
    "    clinical_label = visits['clinical_label']\n",
    "    total_labels.append(total_label)\n",
    "    code_labels.append(code_label)\n",
    "    clinical_labels.append(clinical_labels)\n",
    "    length_list.append(sum([len(visits[year]) for year in ['year']]))\n",
    "    code_length_list.append(max([len(seq)for seq in visits['year']]))"
   ]
  },
  {
   "cell_type": "code",
   "execution_count": 120,
   "id": "b9fbb752-0c57-416b-8ef5-77efc573805d",
   "metadata": {},
   "outputs": [
    {
     "name": "stdout",
     "output_type": "stream",
     "text": [
      "max_index: 15373\n",
      "max_visit: 49\n",
      "max_code_len: 27\n"
     ]
    }
   ],
   "source": [
    "np.unique(labels, return_counts=True)\n",
    "np.mean(length_list)\n",
    "np.std(length_list)\n",
    "\n",
    "max_visits_length = max(length_list)\n",
    "max_index = max(dtype_dict.values())\n",
    "max_code_len = max(code_length_list)\n",
    "print('max_index:', max_index+1)\n",
    "print('max_visit:', max_visits_length)\n",
    "print('max_code_len:', max_code_len)"
   ]
  },
  {
   "cell_type": "code",
   "execution_count": 121,
   "id": "351143bf-890a-491f-8d28-c7d4c83a168f",
   "metadata": {},
   "outputs": [],
   "source": [
    "def pad_sequence(seq_diagnosis_codes, maxlen, maxcode):\n",
    "    lengths = len(data['year'])\n",
    "    diagnosis_codes = np.zeros((maxlen, maxcode), dtype=np.int64)\n",
    "    seq_mask_code = np.zeros((maxlen, maxcode), dtype=np.int8)\n",
    "    seq_mask = np.zeros((maxlen), dtype=np.int8)\n",
    "    seq_mask_final = np.zeros((maxlen), dtype=np.int8)\n",
    "    for pid, subseq in enumerate(seq_diagnosis_codes):\n",
    "        for tid, code in enumerate(subseq):\n",
    "            diagnosis_codes[pid, tid] = code\n",
    "            seq_mask_code[pid, tid] = 1\n",
    "    seq_mask[:lengths] = 1\n",
    "    seq_mask_final[lengths - 1] = 1\n",
    "    return diagnosis_codes, seq_mask_code, seq_mask, seq_mask_final"
   ]
  },
  {
   "cell_type": "code",
   "execution_count": 122,
   "id": "012d7cb4-7b2c-4fe9-ac48-083edb2c2984",
   "metadata": {},
   "outputs": [],
   "source": [
    "def keep_last_one_in_columns(a):\n",
    "    # 결과 배열 초기화\n",
    "    result = np.zeros_like(a)\n",
    "    # 각 열에 대해 반복\n",
    "    for col_index in range(a.shape[1]):\n",
    "        # 현재 열 추출\n",
    "        column = a[:, col_index]\n",
    "        # 이 열에서 마지막 '1' 찾기\n",
    "        last_one_idx = np.max(np.where(column == 1)[0]) if 1 in column else None\n",
    "        if last_one_idx is not None:\n",
    "            result[last_one_idx, col_index] = 1\n",
    "    return result"
   ]
  },
  {
   "cell_type": "code",
   "execution_count": 123,
   "id": "0b9f00a4-7c21-4bd9-8faa-5eb96f08ce3f",
   "metadata": {},
   "outputs": [
    {
     "name": "stderr",
     "output_type": "stream",
     "text": [
      "100%|██████████| 8037/8037 [00:02<00:00, 2828.19it/s]\n"
     ]
    }
   ],
   "source": [
    "new_data_dict_d = {}\n",
    "year_list = []\n",
    "for sample_id, data in tqdm(data_dict_d.items()):\n",
    "    data_dict_new = {}\n",
    "    # pad_seq, seq_mask_code = pad_sequence(data['year'], max_visits_length, max_code_len)\n",
    "    pad_seq, seq_mask_code, seq_mask, seq_mask_final = pad_sequence(data['year'], max_visits_length, max_code_len)\n",
    "    data_dict_new['code_index'] = pad_seq\n",
    "    data_dict_new['code'] = data['code']\n",
    "    data_dict_new['time'] = data['time']\n",
    "    data_dict_new['timedelta'] = data['timedelta']\n",
    "    time_feature = np.array([[timestamp.year, timestamp.month, timestamp.day, timestamp.week] for timestamp in data['time']])\n",
    "    data_dict_new['time_feature'] = np.pad(time_feature, pad_width=((0, max_visits_length - time_feature.shape[0]),(0,0)))\n",
    "    data_dict_new['year'] = np.array([timestamp.year for timestamp in data['time']])\n",
    "    # data_dict_new['seq_mask'] = np.pad(np.ones(time_feature.shape[0]), (0, max_visits_length - time_feature.shape[0]))\n",
    "    data_dict_new['seq_mask'] = seq_mask\n",
    "    data_dict_new['seq_mask_final'] = seq_mask_final\n",
    "    data_dict_new['seq_mask_code'] = seq_mask_code\n",
    "    unique_year = np.unique(data_dict_new['year'])\n",
    "    if len(unique_year) == 2:\n",
    "        # print(\"two year sample\", sample_id)\n",
    "        unique_year = np.append(unique_year, unique_year[-1]+1)\n",
    "    elif len(unique_year) == 1:\n",
    "        # print(\"one year sample\", sample_id)\n",
    "        continue\n",
    "    encoder = OneHotEncoder(categories=[unique_year], sparse=False, handle_unknown='ignore')\n",
    "    year_onehot =  encoder.fit_transform(np.array(data_dict_new['year']).reshape(-1,1))\n",
    "    last_year_visit = keep_last_one_in_columns(year_onehot)\n",
    "    data_dict_new['year_onehot'] = np.pad(year_onehot, pad_width=((0, max_visits_length - year_onehot.shape[0]), (0,0)))\n",
    "    data_dict_new['last_year_onehot'] = np.pad(last_year_visit, pad_width=((0, max_visits_length - year_onehot.shape[0]), (0,0)))\n",
    "    data_dict_new['label'] = data['total_label']    \n",
    "    data_dict_new['code_label'] = data['code_label']    \n",
    "    data_dict_new['clinical_label'] = data['clinical_label']    \n",
    "    new_data_dict_d[sample_id] = data_dict_new"
   ]
  },
  {
   "cell_type": "code",
   "execution_count": 124,
   "id": "4d762d0d-5174-47c4-b134-2f9801f60363",
   "metadata": {},
   "outputs": [],
   "source": [
    "with open(os.path.join('./data/', 'preprocessed_nomedi_240423_clinic_3_years.pkl'), 'wb') as f:\n",
    "    pickle.dump(new_data_dict_d, f)\n",
    "f.close()"
   ]
  },
  {
   "cell_type": "code",
   "execution_count": 107,
   "id": "07c2c3e4-170d-4cb8-81ab-27aba6534eec",
   "metadata": {},
   "outputs": [
    {
     "data": {
      "text/plain": [
       "'/data/notebook/shared/MIMIC-IV/total_data_dict_with_timedelta_nomedi_240421_clinic_3_years.pkl'"
      ]
     },
     "execution_count": 107,
     "metadata": {},
     "output_type": "execute_result"
    }
   ],
   "source": [
    "os.path.join(path, 'total_data_dict_with_timedelta_nomedi_240421_clinic_3_years.pkl')"
   ]
  },
  {
   "cell_type": "code",
   "execution_count": 108,
   "id": "2c83c8f3-0bda-412c-9485-c0a41a9e42d6",
   "metadata": {},
   "outputs": [
    {
     "data": {
      "text/plain": [
       "array([[1, 1, 1, ..., 0, 0, 0],\n",
       "       [1, 1, 1, ..., 0, 0, 0],\n",
       "       [1, 1, 1, ..., 0, 0, 0],\n",
       "       ...,\n",
       "       [0, 0, 0, ..., 0, 0, 0],\n",
       "       [0, 0, 0, ..., 0, 0, 0],\n",
       "       [0, 0, 0, ..., 0, 0, 0]], dtype=int8)"
      ]
     },
     "execution_count": 108,
     "metadata": {},
     "output_type": "execute_result"
    }
   ],
   "source": [
    "np.outer(seq_mask, seq_mask)"
   ]
  },
  {
   "cell_type": "code",
   "execution_count": null,
   "id": "d80e6711-b932-49d1-94aa-070e13e2caa1",
   "metadata": {},
   "outputs": [],
   "source": []
  }
 ],
 "metadata": {
  "kernelspec": {
   "display_name": "Python 3 (ipykernel)",
   "language": "python",
   "name": "python3"
  },
  "language_info": {
   "codemirror_mode": {
    "name": "ipython",
    "version": 3
   },
   "file_extension": ".py",
   "mimetype": "text/x-python",
   "name": "python",
   "nbconvert_exporter": "python",
   "pygments_lexer": "ipython3",
   "version": "3.8.10"
  }
 },
 "nbformat": 4,
 "nbformat_minor": 5
}
