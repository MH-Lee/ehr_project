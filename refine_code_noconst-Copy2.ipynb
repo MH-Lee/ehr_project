{
 "cells": [
  {
   "cell_type": "code",
   "execution_count": 1,
   "id": "67d7f7cb-c1e6-4732-8de7-b84f606b83ff",
   "metadata": {},
   "outputs": [],
   "source": [
    "import numpy as np\n",
    "import pandas as pd\n",
    "import os \n",
    "import pickle\n",
    "import sys\n",
    "import math\n",
    "import torch\n",
    "import torch.nn as nn\n",
    "from torch.autograd import Variable\n",
    "from torch.utils.data import Dataset, DataLoader, random_split\n",
    "import torch.nn.functional as F\n",
    "import torch.backends.cudnn as cudnn\n",
    "import random\n",
    "from tqdm import tqdm\n",
    "from sklearn.metrics import accuracy_score, roc_auc_score, f1_score, precision_score, recall_score\n",
    "from sklearn.model_selection import train_test_split\n",
    "from sklearn.preprocessing import StandardScaler\n",
    "from sklearn.metrics import confusion_matrix\n",
    "import warnings\n",
    "\n",
    "torch.set_printoptions(profile=\"full\")\n",
    "np.set_printoptions(threshold=sys.maxsize)\n",
    "warnings.filterwarnings(\"ignore\")"
   ]
  },
  {
   "cell_type": "code",
   "execution_count": 2,
   "id": "f87c303a-de26-4231-bcf3-ba9d34c2ae6c",
   "metadata": {},
   "outputs": [],
   "source": [
    "from src.attn import FixedPositionalEncoding, LearnablePositionalEncoding, TemporalEmbedding, MultiheadAttention, Decoder\n",
    "from src.loss import ContrastiveLoss, FocalLoss"
   ]
  },
  {
   "cell_type": "code",
   "execution_count": 3,
   "id": "f080cf6a-e407-41a5-bf76-d19d5764212d",
   "metadata": {},
   "outputs": [],
   "source": [
    "from datetime import datetime"
   ]
  },
  {
   "cell_type": "code",
   "execution_count": 4,
   "id": "daba1b22-ba3b-4abc-9f33-b63d1a1566a3",
   "metadata": {},
   "outputs": [],
   "source": [
    "seed = 777\n",
    "torch.manual_seed(seed)\n",
    "torch.cuda.manual_seed(seed)\n",
    "torch.cuda.manual_seed_all(seed)\n",
    "np.random.seed(seed)\n",
    "cudnn.benchmark = False\n",
    "cudnn.deterministic = True\n",
    "random.seed(seed)"
   ]
  },
  {
   "cell_type": "code",
   "execution_count": 5,
   "id": "ed940215-7c3b-47e1-97ac-f07eefb03104",
   "metadata": {},
   "outputs": [],
   "source": [
    "path = '/data/notebook/shared/MIMIC-IV'"
   ]
  },
  {
   "cell_type": "code",
   "execution_count": 6,
   "id": "983ebd7f-7e8f-415b-9237-c3c452239b98",
   "metadata": {},
   "outputs": [],
   "source": [
    "with open(os.path.join(path, 'dict_types_nomedi_mimic_240408_clinic_3_years.pkl'), 'rb') as f:\n",
    "    dtype_dict = pickle.load(f)\n",
    "f.close()\n",
    "\n",
    "with open(os.path.join('./data', 'preprocessed_nomedi_240423_clinic_3_years.pkl'), 'rb') as f:\n",
    "    data_dict_d = pickle.load(f)\n",
    "f.close()"
   ]
  },
  {
   "cell_type": "code",
   "execution_count": 7,
   "id": "6ada580e-7648-4754-862f-cd41a878ac20",
   "metadata": {},
   "outputs": [],
   "source": [
    "remain_year_clinical = pd.read_csv(os.path.join(path, \"240408_remain_year_clinical_diag_seq_4.csv\"))\n",
    "del remain_year_clinical['clinical_label']"
   ]
  },
  {
   "cell_type": "code",
   "execution_count": 8,
   "id": "3511b99c-b98a-40ae-93ca-a8573581e50e",
   "metadata": {},
   "outputs": [
    {
     "data": {
      "text/plain": [
       "12702"
      ]
     },
     "execution_count": 8,
     "metadata": {},
     "output_type": "execute_result"
    }
   ],
   "source": [
    "len(dtype_dict)"
   ]
  },
  {
   "cell_type": "code",
   "execution_count": 9,
   "id": "0c0ff63e-1a36-47cf-98ea-afe399e4a13f",
   "metadata": {},
   "outputs": [
    {
     "name": "stderr",
     "output_type": "stream",
     "text": [
      "100%|██████████| 8037/8037 [00:00<00:00, 702225.26it/s]\n"
     ]
    }
   ],
   "source": [
    "labels = []\n",
    "code_labels = []\n",
    "length_list = []\n",
    "clinical_labels = []\n",
    "code_length_list = []\n",
    "for sample_id, visits in tqdm(data_dict_d.items()):\n",
    "    # 레이블 추가\n",
    "    label = visits['label']\n",
    "    code_label = visits['code_label']\n",
    "    clinical_label = visits['clinical_label']\n",
    "    labels.append(label)\n",
    "    code_labels.append(code_label)\n",
    "    clinical_labels.append(clinical_labels)"
   ]
  },
  {
   "cell_type": "code",
   "execution_count": 10,
   "id": "720df7f0-aaeb-4dfe-8381-f8afbb65a3da",
   "metadata": {},
   "outputs": [],
   "source": [
    "train_indices, test_indices, train_y, test_y = train_test_split(list(data_dict_d.keys()), labels, test_size=0.1, random_state=777, stratify=labels)\n",
    "train_indices, valid_indices, valid_y, valid_y = train_test_split(train_indices, train_y, test_size=(len(test_indices)/len(train_indices)), random_state=777, stratify=train_y) "
   ]
  },
  {
   "cell_type": "code",
   "execution_count": 11,
   "id": "c3346904-0cf4-430e-b7e8-0d1fbf757398",
   "metadata": {},
   "outputs": [
    {
     "name": "stderr",
     "output_type": "stream",
     "text": [
      "100%|██████████| 6429/6429 [00:00<00:00, 2235177.42it/s]\n",
      "100%|██████████| 804/804 [00:00<00:00, 1726687.36it/s]\n",
      "100%|██████████| 804/804 [00:00<00:00, 1722278.05it/s]\n"
     ]
    }
   ],
   "source": [
    "train_data = {}\n",
    "valid_data = {}\n",
    "test_data = {}\n",
    "for sample in tqdm(train_indices):\n",
    "    train_data[sample] = data_dict_d[sample]\n",
    "\n",
    "for sample in tqdm(valid_indices):\n",
    "    valid_data[sample] = data_dict_d[sample]\n",
    "\n",
    "for sample in tqdm(test_indices):\n",
    "    test_data[sample] = data_dict_d[sample]"
   ]
  },
  {
   "cell_type": "code",
   "execution_count": 12,
   "id": "5fa78d19-7b7e-476b-b9d4-9fad9677f943",
   "metadata": {},
   "outputs": [],
   "source": [
    "train_clinical = remain_year_clinical[remain_year_clinical['subject_id'].isin(train_indices)].reset_index(drop=True)\n",
    "valid_clinical = remain_year_clinical[remain_year_clinical['subject_id'].isin(valid_indices)].reset_index(drop=True)\n",
    "test_clinical = remain_year_clinical[remain_year_clinical['subject_id'].isin(test_indices)].reset_index(drop=True)"
   ]
  },
  {
   "cell_type": "code",
   "execution_count": 16,
   "id": "c01363a8-4a8e-4768-ae31-0b8e352aeb7e",
   "metadata": {},
   "outputs": [],
   "source": [
    "class CustomDataset(Dataset):\n",
    "    def __init__(self, data, clinical_df, scaler, mode='train'):       \n",
    "        self.keys = list(data.keys())  # 딕셔너리의 키 목록 저장\n",
    "        self.data = data  # 딕셔너리에서 데이터만 추출하여 저장\n",
    "        self.scaler = scaler\n",
    "        if mode == 'train':\n",
    "            scaled_data = self.scaler.fit_transform(clinical_df.iloc[:, 2:])\n",
    "            scaled_clinical_df = pd.DataFrame(scaled_data, columns = clinical_df.iloc[:, 2:].columns)\n",
    "            self.scaled_clinical_df = pd.concat([clinical_df.iloc[:, :2], scaled_clinical_df], axis=1)\n",
    "        else:\n",
    "            scaled_data = self.scaler.transform(clinical_df.iloc[:, 2:])\n",
    "            scaled_clinical_df = pd.DataFrame(scaled_data, columns = clinical_df.iloc[:, 2:].columns)\n",
    "            self.scaled_clinical_df = pd.concat([clinical_df.iloc[:, :2], scaled_clinical_df], axis=1)\n",
    "\n",
    "    def __len__(self):\n",
    "        return len(self.data)\n",
    "\n",
    "    def __getitem__(self, idx):\n",
    "        # x는 현재 방문까지의 모든 방문 데이터, y는 다음 방문 데이터\n",
    "        padding_temp = torch.zeros((1, len(self.data[self.keys[idx]]['code_index'][0])), dtype=torch.long)\n",
    "        \n",
    "        origin_visit = torch.tensor(self.data[self.keys[idx]]['code_index'], dtype=torch.long)\n",
    "        origin_mask = torch.tensor(self.data[self.keys[idx]]['seq_mask'], dtype=torch.long)\n",
    "        origin_mask_final = torch.tensor(self.data[self.keys[idx]]['seq_mask_final'], dtype=torch.long)\n",
    "        origin_mask_code = torch.tensor(self.data[self.keys[idx]]['seq_mask_code'], dtype=torch.long)\n",
    "        \n",
    "        next_visit = torch.cat((origin_visit[1:], padding_temp), dim=0)\n",
    "        next_mask =torch.cat((origin_mask[1:], torch.tensor([0], dtype=torch.long)), dim=0)\n",
    "        next_mask_code = torch.cat((origin_mask_code[1:], padding_temp), dim=0)\n",
    "        \n",
    "        clinical_data = self.scaled_clinical_df.loc[self.scaled_clinical_df['subject_id'] == self.keys[idx], self.scaled_clinical_df.columns[2:]].values\n",
    "        clinical_data = torch.tensor(clinical_data, dtype=torch.float)\n",
    "        visit_index = torch.tensor(self.data[self.keys[idx]]['year_onehot'], dtype=torch.long)\n",
    "        last_visit_index = torch.tensor(self.data[self.keys[idx]]['last_year_onehot'], dtype=torch.float)\n",
    "        time_feature = torch.tensor(self.data[self.keys[idx]]['time_feature'], dtype=torch.long)\n",
    "        label_per_sample = self.data[self.keys[idx]]['label']\n",
    "        key_per_sample = self.keys[idx]  # 해당 샘플의 키\n",
    "        # 키 값도 함께 반환\n",
    "        return {'sample_id': key_per_sample, 'origin_visit': origin_visit, 'next_visit': next_visit,\\\n",
    "                'origin_mask': origin_mask, 'origin_mask_final': origin_mask_final, 'next_mask': next_mask, \\\n",
    "                'origin_mask_code': origin_mask_code, 'next_mask_code': next_mask_code, 'time_feature': time_feature, \\\n",
    "                'clinical_data': clinical_data, 'visit_index': visit_index, 'last_visit_index': last_visit_index, \\\n",
    "                'label': label_per_sample}"
   ]
  },
  {
   "cell_type": "code",
   "execution_count": 17,
   "id": "120bf928-219b-4804-89e2-0dc48b9c10b9",
   "metadata": {},
   "outputs": [],
   "source": [
    "scaler = StandardScaler()\n",
    "train_dataset = CustomDataset(train_data, train_clinical, scaler, mode='train')\n",
    "valid_dataset = CustomDataset(valid_data, valid_clinical, scaler, mode='valid')\n",
    "test_dataset = CustomDataset(test_data, test_clinical, scaler, mode='test')"
   ]
  },
  {
   "cell_type": "code",
   "execution_count": 18,
   "id": "aee0bde0-cf5b-4361-8d71-185d3b634674",
   "metadata": {},
   "outputs": [],
   "source": [
    "train_loader = DataLoader(train_dataset, batch_size=512, shuffle=True)\n",
    "valid_loader = DataLoader(valid_dataset, batch_size=512, shuffle=False)\n",
    "test_loader = DataLoader(test_dataset, batch_size=512, shuffle=False)"
   ]
  },
  {
   "cell_type": "code",
   "execution_count": 30,
   "id": "48204350-6716-4234-8955-fdd6643412fc",
   "metadata": {},
   "outputs": [],
   "source": [
    "class CustomTransformerModel(nn.Module):\n",
    "    def __init__(self, code_size, ninp, nhead, nhid, nlayers, dropout=0.5, device='cuda:0', pe='fixed'):\n",
    "        super(CustomTransformerModel, self).__init__()\n",
    "        self.ninp = ninp  # 축소된 차원 및 Transformer 입력 차원\n",
    "        self.device = device\n",
    "        # 차원 축소를 위한 선형 레이어\n",
    "        self.pre_embedding = nn.Embedding(code_size, self.ninp)\n",
    "        self.pe = pe\n",
    "        if self.pe == 'fixed':\n",
    "            self.pos_encoder = FixedPositionalEncoding(ninp, dropout)\n",
    "        elif self.pe == 'time_feature':\n",
    "            self.pos_encoder = TemporalEmbedding(ninp, embed_type='embed', dropout=dropout)\n",
    "        else:\n",
    "            self.pos_encoder = LearnablePositionalEncoding(ninp, dropout)\n",
    "            \n",
    "        self.transformer_decoder = Decoder(ninp, nhead, nhid, nlayers, dropout)\n",
    "        self.decoder = nn.Linear(ninp, ninp, bias=False)  # 최종 출력 차원을 설정 (여기서는 ninp로 설정)\n",
    "        self.classification_layer = nn.Linear(ninp*2, 2)\n",
    "        self.clinical_transform = nn.Linear(18, ninp) \n",
    "        self.cross_attn = MultiheadAttention(ninp, nhead, dropout=0.3)\n",
    "        self.init_weights()\n",
    "        \n",
    "    def init_weights(self):\n",
    "        nn.init.xavier_uniform_(self.pre_embedding.weight)\n",
    "        nn.init.xavier_uniform_(self.decoder.weight)\n",
    "        nn.init.xavier_uniform_(self.classification_layer.weight)\n",
    "    \n",
    "    def forward(self, batch_data):\n",
    "        # 차원 축소\n",
    "        origin_visit = batch_data['origin_visit'].to(self.device)\n",
    "        next_visit = batch_data['next_visit'].to(self.device)\n",
    "        clinical_tensor = batch_data['clinical_data'].to(self.device)\n",
    "        mask_code = batch_data['origin_mask_code'].unsqueeze(3).to(self.device)\n",
    "        next_mask_code = batch_data['next_mask_code'].unsqueeze(3).to(self.device)\n",
    "        mask_final = batch_data['origin_mask_final'].unsqueeze(2).to(self.device)\n",
    "        mask_final_year = batch_data['last_visit_index'].to(self.device)\n",
    "                \n",
    "        origin_visit_emb = (self.pre_embedding(origin_visit) * mask_code).sum(dim=2)\n",
    "        next_visit_emb = (self.pre_embedding(next_visit) * next_mask_code).sum(dim=2)\n",
    "        # 위치 인코딩 및 Transformer 디코더 적용\n",
    "        if self.pe == 'time_feature':\n",
    "            time_feature = batch_data['time_feature'].to(self.device)\n",
    "            src = self.pos_encoder(origin_visit_emb, time_feature)\n",
    "        else:\n",
    "            src = self.pos_encoder(origin_visit_emb)\n",
    "        \n",
    "        seq_len = src.shape[1]\n",
    "        src_mask = torch.triu(torch.ones((seq_len, seq_len), dtype=torch.uint8, device=self.device), diagonal=1)\n",
    "        output = self.transformer_decoder(src, attention_mask=src_mask)\n",
    "        output = self.decoder(output)\n",
    "        \n",
    "        output_batch, output_visit_num, output_dim = output.size()\n",
    "        next_visit_output_batch, next_visit_output_num, next_visit_output_dim = next_visit_emb.size()\n",
    "        \n",
    "        # print(output[:, :torch.,:])\n",
    "        temp_output = output.reshape(-1, output_dim)\n",
    "        temp_next_visit = next_visit_emb.reshape(-1, next_visit_output_dim)\n",
    "        final_visit = (output * mask_final).sum(dim=1)\n",
    "        year_emb = torch.bmm(output.transpose(1,2), mask_final_year).transpose(1,2)[:,:2,:]\n",
    "        \n",
    "        transformed_clinical = self.clinical_transform(clinical_tensor)\n",
    "        mixed_output, mixed_cross_attn = self.cross_attn(year_emb, transformed_clinical, transformed_clinical)\n",
    "        mixed_output = mixed_output[:,-1,:]\n",
    "        mixed_final_emb = torch.cat((final_visit, mixed_output), dim=-1)\n",
    "        classification_result = self.classification_layer(mixed_final_emb)    \n",
    "        return temp_output, temp_next_visit, classification_result, final_visit"
   ]
  },
  {
   "cell_type": "code",
   "execution_count": 31,
   "id": "a5890489-1f23-4a48-9e8b-73fbe5f90ae7",
   "metadata": {},
   "outputs": [],
   "source": [
    "lr = 0.001\n",
    "ninp = 64\n",
    "nhid = 256\n",
    "nlayer = 6\n",
    "gamma = 0.5\n",
    "model_name = 'no_center_total_label'\n",
    "pe = 'time_feature'"
   ]
  },
  {
   "cell_type": "code",
   "execution_count": 32,
   "id": "3e25eb9d-006d-49ca-99e6-228e7d7414ef",
   "metadata": {},
   "outputs": [],
   "source": [
    "device = torch.device(\"cuda:0\" if torch.cuda.is_available() else \"cpu\")\n",
    "model_1 = CustomTransformerModel(len(dtype_dict), ninp=ninp, nhead=8, nhid=nhid, nlayers=nlayer, dropout=0.2, device=device, pe=pe).to(device)\n",
    "# model_2 = CustomTransformerModel(len(dtype_dict), ninp=ninp, nhead=8, nhid=nhid, nlayers=nlayer, dropout=0.6, device=device, pe='fixed').to(device)\n",
    "\n",
    "optimizer = torch.optim.Adam(model_1.parameters(), lr=lr, weight_decay=1e-5)\n",
    "\n",
    "# criterion = nn.BCEWithLogitsLoss()\n",
    "criterion = FocalLoss(2, gamma=gamma)\n",
    "# cosine_loss = CosineSimilarityLoss()\n",
    "cosine_embedding_loss = nn.CosineEmbeddingLoss()\n",
    "# const_loss = ContrastiveLoss(temperature=0.05)"
   ]
  },
  {
   "cell_type": "code",
   "execution_count": 33,
   "id": "4143c27e-cff0-4359-8cbd-d5ef05e6ec16",
   "metadata": {
    "scrolled": true,
    "tags": []
   },
   "outputs": [
    {
     "name": "stderr",
     "output_type": "stream",
     "text": [
      "  0%|          | 0/200 [00:00<?, ?it/s]"
     ]
    },
    {
     "name": "stdout",
     "output_type": "stream",
     "text": [
      "Epoch: 1 , Total loss: 1.3366 , cos_loss :  0.9664 , classification_loss : 0.3702\n"
     ]
    },
    {
     "name": "stderr",
     "output_type": "stream",
     "text": [
      "  0%|          | 1/200 [00:03<12:13,  3.69s/it]"
     ]
    },
    {
     "name": "stdout",
     "output_type": "stream",
     "text": [
      "Epoch: 1 , valid loss: 1.1399 , cos_loss :  0.9341 , classification_loss : 0.2059\n",
      "Accuracy: 0.9129 , AUC:  0.6121 , F1:  0.0 , Precision:  0.0 , recall:  0.0\n",
      "Epoch: 2 , Total loss: 1.1452 , cos_loss :  0.927 , classification_loss : 0.2182\n"
     ]
    },
    {
     "name": "stderr",
     "output_type": "stream",
     "text": [
      "  1%|          | 2/200 [00:07<11:33,  3.50s/it]"
     ]
    },
    {
     "name": "stdout",
     "output_type": "stream",
     "text": [
      "Epoch: 2 , valid loss: 1.122 , cos_loss :  0.9178 , classification_loss : 0.2042\n",
      "Accuracy: 0.9129 , AUC:  0.5535 , F1:  0.0 , Precision:  0.0 , recall:  0.0\n",
      "Epoch: 3 , Total loss: 1.132 , cos_loss :  0.9186 , classification_loss : 0.2134\n"
     ]
    },
    {
     "name": "stderr",
     "output_type": "stream",
     "text": [
      "  2%|▏         | 3/200 [00:10<11:31,  3.51s/it]"
     ]
    },
    {
     "name": "stdout",
     "output_type": "stream",
     "text": [
      "Epoch: 3 , valid loss: 1.1164 , cos_loss :  0.9143 , classification_loss : 0.2021\n",
      "Accuracy: 0.9129 , AUC:  0.5755 , F1:  0.0 , Precision:  0.0 , recall:  0.0\n",
      "Epoch: 4 , Total loss: 1.1251 , cos_loss :  0.9162 , classification_loss : 0.2088\n"
     ]
    },
    {
     "name": "stderr",
     "output_type": "stream",
     "text": [
      "  2%|▏         | 4/200 [00:13<11:18,  3.46s/it]"
     ]
    },
    {
     "name": "stdout",
     "output_type": "stream",
     "text": [
      "Epoch: 4 , valid loss: 1.1158 , cos_loss :  0.9131 , classification_loss : 0.2027\n",
      "Accuracy: 0.9129 , AUC:  0.5776 , F1:  0.0 , Precision:  0.0 , recall:  0.0\n",
      "Epoch: 5 , Total loss: 1.1261 , cos_loss :  0.9154 , classification_loss : 0.2106\n"
     ]
    },
    {
     "name": "stderr",
     "output_type": "stream",
     "text": [
      "  2%|▎         | 5/200 [00:17<11:19,  3.49s/it]"
     ]
    },
    {
     "name": "stdout",
     "output_type": "stream",
     "text": [
      "Epoch: 5 , valid loss: 1.1249 , cos_loss :  0.9125 , classification_loss : 0.2123\n",
      "Accuracy: 0.9129 , AUC:  0.583 , F1:  0.0 , Precision:  0.0 , recall:  0.0\n",
      "Epoch: 6 , Total loss: 1.1229 , cos_loss :  0.9152 , classification_loss : 0.2077\n"
     ]
    },
    {
     "name": "stderr",
     "output_type": "stream",
     "text": [
      "  3%|▎         | 6/200 [00:20<11:10,  3.46s/it]"
     ]
    },
    {
     "name": "stdout",
     "output_type": "stream",
     "text": [
      "Epoch: 6 , valid loss: 1.111 , cos_loss :  0.9122 , classification_loss : 0.1988\n",
      "Accuracy: 0.9129 , AUC:  0.591 , F1:  0.0 , Precision:  0.0 , recall:  0.0\n",
      "Epoch: 7 , Total loss: 1.1188 , cos_loss :  0.915 , classification_loss : 0.2038\n"
     ]
    },
    {
     "name": "stderr",
     "output_type": "stream",
     "text": [
      "  4%|▎         | 7/200 [00:24<11:03,  3.44s/it]"
     ]
    },
    {
     "name": "stdout",
     "output_type": "stream",
     "text": [
      "Epoch: 7 , valid loss: 1.11 , cos_loss :  0.9119 , classification_loss : 0.1981\n",
      "Accuracy: 0.9129 , AUC:  0.5973 , F1:  0.0 , Precision:  0.0 , recall:  0.0\n",
      "Epoch: 8 , Total loss: 1.119 , cos_loss :  0.9145 , classification_loss : 0.2045\n"
     ]
    },
    {
     "name": "stderr",
     "output_type": "stream",
     "text": [
      "  4%|▍         | 8/200 [00:27<11:04,  3.46s/it]"
     ]
    },
    {
     "name": "stdout",
     "output_type": "stream",
     "text": [
      "Epoch: 8 , valid loss: 1.1102 , cos_loss :  0.9118 , classification_loss : 0.1984\n",
      "Accuracy: 0.9129 , AUC:  0.5952 , F1:  0.0 , Precision:  0.0 , recall:  0.0\n",
      "Epoch: 9 , Total loss: 1.1147 , cos_loss :  0.9147 , classification_loss : 0.1999\n"
     ]
    },
    {
     "name": "stderr",
     "output_type": "stream",
     "text": [
      "  4%|▍         | 9/200 [00:31<10:54,  3.42s/it]"
     ]
    },
    {
     "name": "stdout",
     "output_type": "stream",
     "text": [
      "Epoch: 9 , valid loss: 1.1085 , cos_loss :  0.9117 , classification_loss : 0.1968\n",
      "Accuracy: 0.9129 , AUC:  0.6127 , F1:  0.0 , Precision:  0.0 , recall:  0.0\n",
      "Epoch: 10 , Total loss: 1.1144 , cos_loss :  0.9145 , classification_loss : 0.1998\n"
     ]
    },
    {
     "name": "stderr",
     "output_type": "stream",
     "text": [
      "  5%|▌         | 10/200 [00:34<10:45,  3.40s/it]"
     ]
    },
    {
     "name": "stdout",
     "output_type": "stream",
     "text": [
      "Epoch: 10 , valid loss: 1.1098 , cos_loss :  0.9117 , classification_loss : 0.1981\n",
      "Accuracy: 0.9129 , AUC:  0.6405 , F1:  0.0 , Precision:  0.0 , recall:  0.0\n",
      "Epoch: 11 , Total loss: 1.1111 , cos_loss :  0.9143 , classification_loss : 0.1969\n"
     ]
    },
    {
     "name": "stderr",
     "output_type": "stream",
     "text": [
      "  6%|▌         | 11/200 [00:37<10:45,  3.41s/it]"
     ]
    },
    {
     "name": "stdout",
     "output_type": "stream",
     "text": [
      "Epoch: 11 , valid loss: 1.1017 , cos_loss :  0.9118 , classification_loss : 0.19\n",
      "Accuracy: 0.9129 , AUC:  0.6918 , F1:  0.0 , Precision:  0.0 , recall:  0.0\n",
      "Epoch: 12 , Total loss: 1.0851 , cos_loss :  0.9156 , classification_loss : 0.1694\n"
     ]
    },
    {
     "name": "stderr",
     "output_type": "stream",
     "text": [
      "  6%|▌         | 12/200 [00:41<10:39,  3.40s/it]"
     ]
    },
    {
     "name": "stdout",
     "output_type": "stream",
     "text": [
      "Epoch: 12 , valid loss: 1.0643 , cos_loss :  0.9155 , classification_loss : 0.1487\n",
      "Accuracy: 0.9415 , AUC:  0.7091 , F1:  0.4946 , Precision:  1.0 , recall:  0.3286\n",
      "Epoch: 13 , Total loss: 1.0627 , cos_loss :  0.9171 , classification_loss : 0.1455\n"
     ]
    },
    {
     "name": "stderr",
     "output_type": "stream",
     "text": [
      "  6%|▋         | 13/200 [00:44<10:32,  3.38s/it]"
     ]
    },
    {
     "name": "stdout",
     "output_type": "stream",
     "text": [
      "Epoch: 13 , valid loss: 1.0611 , cos_loss :  0.9145 , classification_loss : 0.1467\n",
      "Accuracy: 0.9415 , AUC:  0.7288 , F1:  0.4946 , Precision:  1.0 , recall:  0.3286\n",
      "Epoch: 14 , Total loss: 1.0578 , cos_loss :  0.9165 , classification_loss : 0.1413\n"
     ]
    },
    {
     "name": "stderr",
     "output_type": "stream",
     "text": [
      "  7%|▋         | 14/200 [00:48<10:34,  3.41s/it]"
     ]
    },
    {
     "name": "stdout",
     "output_type": "stream",
     "text": [
      "Epoch: 14 , valid loss: 1.0628 , cos_loss :  0.9141 , classification_loss : 0.1488\n",
      "Accuracy: 0.9415 , AUC:  0.7351 , F1:  0.4946 , Precision:  1.0 , recall:  0.3286\n",
      "Epoch: 15 , Total loss: 1.0555 , cos_loss :  0.9159 , classification_loss : 0.1396\n"
     ]
    },
    {
     "name": "stderr",
     "output_type": "stream",
     "text": [
      "  8%|▊         | 15/200 [00:51<10:28,  3.40s/it]"
     ]
    },
    {
     "name": "stdout",
     "output_type": "stream",
     "text": [
      "Epoch: 15 , valid loss: 1.0607 , cos_loss :  0.9142 , classification_loss : 0.1465\n",
      "Accuracy: 0.9415 , AUC:  0.7463 , F1:  0.4946 , Precision:  1.0 , recall:  0.3286\n",
      "Epoch: 16 , Total loss: 1.0542 , cos_loss :  0.9159 , classification_loss : 0.1384\n"
     ]
    },
    {
     "name": "stderr",
     "output_type": "stream",
     "text": [
      "  8%|▊         | 16/200 [00:55<10:31,  3.43s/it]"
     ]
    },
    {
     "name": "stdout",
     "output_type": "stream",
     "text": [
      "Epoch: 16 , valid loss: 1.0628 , cos_loss :  0.9138 , classification_loss : 0.149\n",
      "Accuracy: 0.9415 , AUC:  0.7511 , F1:  0.4946 , Precision:  1.0 , recall:  0.3286\n",
      "Epoch: 17 , Total loss: 1.0539 , cos_loss :  0.9156 , classification_loss : 0.1383\n"
     ]
    },
    {
     "name": "stderr",
     "output_type": "stream",
     "text": [
      "  8%|▊         | 17/200 [00:58<10:24,  3.41s/it]"
     ]
    },
    {
     "name": "stdout",
     "output_type": "stream",
     "text": [
      "Epoch: 17 , valid loss: 1.0603 , cos_loss :  0.9141 , classification_loss : 0.1462\n",
      "Accuracy: 0.9415 , AUC:  0.7559 , F1:  0.4946 , Precision:  1.0 , recall:  0.3286\n",
      "Epoch: 18 , Total loss: 1.0519 , cos_loss :  0.9156 , classification_loss : 0.1362\n"
     ]
    },
    {
     "name": "stderr",
     "output_type": "stream",
     "text": [
      "  9%|▉         | 18/200 [01:01<10:18,  3.40s/it]"
     ]
    },
    {
     "name": "stdout",
     "output_type": "stream",
     "text": [
      "Epoch: 18 , valid loss: 1.0611 , cos_loss :  0.9139 , classification_loss : 0.1472\n",
      "Accuracy: 0.9415 , AUC:  0.7587 , F1:  0.4946 , Precision:  1.0 , recall:  0.3286\n",
      "Epoch: 19 , Total loss: 1.0506 , cos_loss :  0.9155 , classification_loss : 0.1351\n"
     ]
    },
    {
     "name": "stderr",
     "output_type": "stream",
     "text": [
      " 10%|▉         | 19/200 [01:05<10:18,  3.42s/it]"
     ]
    },
    {
     "name": "stdout",
     "output_type": "stream",
     "text": [
      "Epoch: 19 , valid loss: 1.0606 , cos_loss :  0.9136 , classification_loss : 0.147\n",
      "Accuracy: 0.9415 , AUC:  0.7627 , F1:  0.4946 , Precision:  1.0 , recall:  0.3286\n",
      "Epoch: 20 , Total loss: 1.0568 , cos_loss :  0.9153 , classification_loss : 0.1414\n"
     ]
    },
    {
     "name": "stderr",
     "output_type": "stream",
     "text": [
      " 10%|█         | 20/200 [01:08<10:11,  3.40s/it]"
     ]
    },
    {
     "name": "stdout",
     "output_type": "stream",
     "text": [
      "Epoch: 20 , valid loss: 1.0587 , cos_loss :  0.9139 , classification_loss : 0.1448\n",
      "Accuracy: 0.9415 , AUC:  0.7706 , F1:  0.4946 , Precision:  1.0 , recall:  0.3286\n",
      "Epoch: 21 , Total loss: 1.0507 , cos_loss :  0.9158 , classification_loss : 0.1349\n"
     ]
    },
    {
     "name": "stderr",
     "output_type": "stream",
     "text": [
      " 10%|█         | 21/200 [01:11<10:07,  3.39s/it]"
     ]
    },
    {
     "name": "stdout",
     "output_type": "stream",
     "text": [
      "Epoch: 21 , valid loss: 1.0599 , cos_loss :  0.9134 , classification_loss : 0.1464\n",
      "Accuracy: 0.9415 , AUC:  0.7608 , F1:  0.4946 , Precision:  1.0 , recall:  0.3286\n",
      "Epoch: 22 , Total loss: 1.0514 , cos_loss :  0.9152 , classification_loss : 0.1362\n"
     ]
    },
    {
     "name": "stderr",
     "output_type": "stream",
     "text": [
      " 11%|█         | 22/200 [01:15<10:09,  3.43s/it]"
     ]
    },
    {
     "name": "stdout",
     "output_type": "stream",
     "text": [
      "Epoch: 22 , valid loss: 1.0602 , cos_loss :  0.9136 , classification_loss : 0.1465\n",
      "Accuracy: 0.9415 , AUC:  0.7615 , F1:  0.4946 , Precision:  1.0 , recall:  0.3286\n",
      "Epoch: 23 , Total loss: 1.0485 , cos_loss :  0.9155 , classification_loss : 0.133\n"
     ]
    },
    {
     "name": "stderr",
     "output_type": "stream",
     "text": [
      " 12%|█▏        | 23/200 [01:19<10:16,  3.49s/it]"
     ]
    },
    {
     "name": "stdout",
     "output_type": "stream",
     "text": [
      "Epoch: 23 , valid loss: 1.0593 , cos_loss :  0.9138 , classification_loss : 0.1455\n",
      "Accuracy: 0.9415 , AUC:  0.7686 , F1:  0.4946 , Precision:  1.0 , recall:  0.3286\n",
      "Epoch: 24 , Total loss: 1.0457 , cos_loss :  0.9155 , classification_loss : 0.1302\n"
     ]
    },
    {
     "name": "stderr",
     "output_type": "stream",
     "text": [
      " 12%|█▏        | 24/200 [01:22<10:08,  3.45s/it]"
     ]
    },
    {
     "name": "stdout",
     "output_type": "stream",
     "text": [
      "Epoch: 24 , valid loss: 1.0638 , cos_loss :  0.9138 , classification_loss : 0.15\n",
      "Accuracy: 0.9415 , AUC:  0.7618 , F1:  0.4946 , Precision:  1.0 , recall:  0.3286\n",
      "Epoch: 25 , Total loss: 1.0495 , cos_loss :  0.9154 , classification_loss : 0.1341\n"
     ]
    },
    {
     "name": "stderr",
     "output_type": "stream",
     "text": [
      " 12%|█▎        | 25/200 [01:25<10:07,  3.47s/it]"
     ]
    },
    {
     "name": "stdout",
     "output_type": "stream",
     "text": [
      "Epoch: 25 , valid loss: 1.0595 , cos_loss :  0.9134 , classification_loss : 0.146\n",
      "Accuracy: 0.9415 , AUC:  0.77 , F1:  0.4946 , Precision:  1.0 , recall:  0.3286\n",
      "Epoch: 26 , Total loss: 1.0473 , cos_loss :  0.9154 , classification_loss : 0.1319\n"
     ]
    },
    {
     "name": "stderr",
     "output_type": "stream",
     "text": [
      " 13%|█▎        | 26/200 [01:29<09:59,  3.45s/it]"
     ]
    },
    {
     "name": "stdout",
     "output_type": "stream",
     "text": [
      "Epoch: 26 , valid loss: 1.0607 , cos_loss :  0.913 , classification_loss : 0.1477\n",
      "Accuracy: 0.9415 , AUC:  0.7654 , F1:  0.4946 , Precision:  1.0 , recall:  0.3286\n",
      "Epoch: 27 , Total loss: 1.0455 , cos_loss :  0.9156 , classification_loss : 0.1299\n"
     ]
    },
    {
     "name": "stderr",
     "output_type": "stream",
     "text": [
      " 14%|█▎        | 27/200 [01:32<09:52,  3.42s/it]"
     ]
    },
    {
     "name": "stdout",
     "output_type": "stream",
     "text": [
      "Epoch: 27 , valid loss: 1.0639 , cos_loss :  0.914 , classification_loss : 0.1499\n",
      "Accuracy: 0.9415 , AUC:  0.7791 , F1:  0.4946 , Precision:  1.0 , recall:  0.3286\n",
      "Epoch: 28 , Total loss: 1.0464 , cos_loss :  0.9156 , classification_loss : 0.1307\n"
     ]
    },
    {
     "name": "stderr",
     "output_type": "stream",
     "text": [
      " 14%|█▍        | 28/200 [01:36<09:53,  3.45s/it]"
     ]
    },
    {
     "name": "stdout",
     "output_type": "stream",
     "text": [
      "Epoch: 28 , valid loss: 1.0626 , cos_loss :  0.9134 , classification_loss : 0.1492\n",
      "Accuracy: 0.9428 , AUC:  0.7646 , F1:  0.5106 , Precision:  1.0 , recall:  0.3429\n",
      "Epoch: 29 , Total loss: 1.0483 , cos_loss :  0.9155 , classification_loss : 0.1328\n"
     ]
    },
    {
     "name": "stderr",
     "output_type": "stream",
     "text": [
      " 14%|█▍        | 29/200 [01:39<09:49,  3.45s/it]"
     ]
    },
    {
     "name": "stdout",
     "output_type": "stream",
     "text": [
      "Epoch: 29 , valid loss: 1.0709 , cos_loss :  0.9137 , classification_loss : 0.1572\n",
      "Accuracy: 0.9415 , AUC:  0.7723 , F1:  0.4946 , Precision:  1.0 , recall:  0.3286\n",
      "Epoch: 30 , Total loss: 1.0448 , cos_loss :  0.9156 , classification_loss : 0.1292\n"
     ]
    },
    {
     "name": "stderr",
     "output_type": "stream",
     "text": [
      " 15%|█▌        | 30/200 [01:43<10:05,  3.56s/it]"
     ]
    },
    {
     "name": "stdout",
     "output_type": "stream",
     "text": [
      "Epoch: 30 , valid loss: 1.0598 , cos_loss :  0.9134 , classification_loss : 0.1464\n",
      "Accuracy: 0.9428 , AUC:  0.7605 , F1:  0.5106 , Precision:  1.0 , recall:  0.3429\n",
      "Epoch: 31 , Total loss: 1.0412 , cos_loss :  0.9155 , classification_loss : 0.1257\n"
     ]
    },
    {
     "name": "stderr",
     "output_type": "stream",
     "text": [
      " 16%|█▌        | 31/200 [01:47<10:02,  3.56s/it]"
     ]
    },
    {
     "name": "stdout",
     "output_type": "stream",
     "text": [
      "Epoch: 31 , valid loss: 1.0622 , cos_loss :  0.9139 , classification_loss : 0.1483\n",
      "Accuracy: 0.9415 , AUC:  0.7659 , F1:  0.4946 , Precision:  1.0 , recall:  0.3286\n",
      "Epoch: 32 , Total loss: 1.042 , cos_loss :  0.9155 , classification_loss : 0.1266\n"
     ]
    },
    {
     "name": "stderr",
     "output_type": "stream",
     "text": [
      " 16%|█▌        | 32/200 [01:50<09:50,  3.52s/it]"
     ]
    },
    {
     "name": "stdout",
     "output_type": "stream",
     "text": [
      "Epoch: 32 , valid loss: 1.0597 , cos_loss :  0.9134 , classification_loss : 0.1463\n",
      "Accuracy: 0.9415 , AUC:  0.7729 , F1:  0.4946 , Precision:  1.0 , recall:  0.3286\n",
      "Epoch: 33 , Total loss: 1.0381 , cos_loss :  0.9155 , classification_loss : 0.1226\n"
     ]
    },
    {
     "name": "stderr",
     "output_type": "stream",
     "text": [
      " 16%|█▋        | 33/200 [01:53<09:46,  3.51s/it]"
     ]
    },
    {
     "name": "stdout",
     "output_type": "stream",
     "text": [
      "Epoch: 33 , valid loss: 1.0601 , cos_loss :  0.9137 , classification_loss : 0.1464\n",
      "Accuracy: 0.9428 , AUC:  0.7649 , F1:  0.5106 , Precision:  1.0 , recall:  0.3429\n",
      "Epoch: 34 , Total loss: 1.0372 , cos_loss :  0.9158 , classification_loss : 0.1214\n"
     ]
    },
    {
     "name": "stderr",
     "output_type": "stream",
     "text": [
      " 17%|█▋        | 34/200 [01:57<09:36,  3.47s/it]"
     ]
    },
    {
     "name": "stdout",
     "output_type": "stream",
     "text": [
      "Epoch: 34 , valid loss: 1.0569 , cos_loss :  0.9138 , classification_loss : 0.1431\n",
      "Accuracy: 0.944 , AUC:  0.767 , F1:  0.5263 , Precision:  1.0 , recall:  0.3571\n",
      "Epoch: 35 , Total loss: 1.0341 , cos_loss :  0.9156 , classification_loss : 0.1185\n"
     ]
    },
    {
     "name": "stderr",
     "output_type": "stream",
     "text": [
      " 18%|█▊        | 35/200 [02:00<09:29,  3.45s/it]"
     ]
    },
    {
     "name": "stdout",
     "output_type": "stream",
     "text": [
      "Epoch: 35 , valid loss: 1.0562 , cos_loss :  0.9139 , classification_loss : 0.1423\n",
      "Accuracy: 0.944 , AUC:  0.7697 , F1:  0.5263 , Precision:  1.0 , recall:  0.3571\n",
      "Epoch: 36 , Total loss: 1.0345 , cos_loss :  0.9157 , classification_loss : 0.1188\n"
     ]
    },
    {
     "name": "stderr",
     "output_type": "stream",
     "text": [
      " 18%|█▊        | 36/200 [02:04<09:28,  3.47s/it]"
     ]
    },
    {
     "name": "stdout",
     "output_type": "stream",
     "text": [
      "Epoch: 36 , valid loss: 1.0641 , cos_loss :  0.914 , classification_loss : 0.1501\n",
      "Accuracy: 0.9428 , AUC:  0.7766 , F1:  0.5106 , Precision:  1.0 , recall:  0.3429\n",
      "Epoch: 37 , Total loss: 1.038 , cos_loss :  0.9156 , classification_loss : 0.1224\n"
     ]
    },
    {
     "name": "stderr",
     "output_type": "stream",
     "text": [
      " 18%|█▊        | 37/200 [02:07<09:20,  3.44s/it]"
     ]
    },
    {
     "name": "stdout",
     "output_type": "stream",
     "text": [
      "Epoch: 37 , valid loss: 1.0644 , cos_loss :  0.9141 , classification_loss : 0.1503\n",
      "Accuracy: 0.9428 , AUC:  0.7591 , F1:  0.5106 , Precision:  1.0 , recall:  0.3429\n",
      "Epoch: 38 , Total loss: 1.0313 , cos_loss :  0.9157 , classification_loss : 0.1156\n"
     ]
    },
    {
     "name": "stderr",
     "output_type": "stream",
     "text": [
      " 19%|█▉        | 38/200 [02:10<09:13,  3.42s/it]"
     ]
    },
    {
     "name": "stdout",
     "output_type": "stream",
     "text": [
      "Epoch: 38 , valid loss: 1.0561 , cos_loss :  0.9138 , classification_loss : 0.1423\n",
      "Accuracy: 0.949 , AUC:  0.7712 , F1:  0.5859 , Precision:  1.0 , recall:  0.4143\n",
      "Epoch: 39 , Total loss: 1.0295 , cos_loss :  0.9159 , classification_loss : 0.1136\n"
     ]
    },
    {
     "name": "stderr",
     "output_type": "stream",
     "text": [
      " 20%|█▉        | 39/200 [02:14<09:13,  3.44s/it]"
     ]
    },
    {
     "name": "stdout",
     "output_type": "stream",
     "text": [
      "Epoch: 39 , valid loss: 1.0705 , cos_loss :  0.9141 , classification_loss : 0.1565\n",
      "Accuracy: 0.944 , AUC:  0.7655 , F1:  0.5263 , Precision:  1.0 , recall:  0.3571\n",
      "Epoch: 40 , Total loss: 1.0362 , cos_loss :  0.9159 , classification_loss : 0.1204\n"
     ]
    },
    {
     "name": "stderr",
     "output_type": "stream",
     "text": [
      " 20%|██        | 40/200 [02:17<09:07,  3.42s/it]"
     ]
    },
    {
     "name": "stdout",
     "output_type": "stream",
     "text": [
      "Epoch: 40 , valid loss: 1.0628 , cos_loss :  0.9149 , classification_loss : 0.1479\n",
      "Accuracy: 0.944 , AUC:  0.7772 , F1:  0.5263 , Precision:  1.0 , recall:  0.3571\n",
      "Epoch: 41 , Total loss: 1.0342 , cos_loss :  0.9164 , classification_loss : 0.1178\n"
     ]
    },
    {
     "name": "stderr",
     "output_type": "stream",
     "text": [
      " 20%|██        | 41/200 [02:21<09:01,  3.41s/it]"
     ]
    },
    {
     "name": "stdout",
     "output_type": "stream",
     "text": [
      "Epoch: 41 , valid loss: 1.0577 , cos_loss :  0.9141 , classification_loss : 0.1437\n",
      "Accuracy: 0.9478 , AUC:  0.7748 , F1:  0.58 , Precision:  0.9667 , recall:  0.4143\n",
      "Epoch: 42 , Total loss: 1.0345 , cos_loss :  0.9156 , classification_loss : 0.1189\n"
     ]
    },
    {
     "name": "stderr",
     "output_type": "stream",
     "text": [
      " 21%|██        | 42/200 [02:24<09:03,  3.44s/it]"
     ]
    },
    {
     "name": "stdout",
     "output_type": "stream",
     "text": [
      "Epoch: 42 , valid loss: 1.0582 , cos_loss :  0.9144 , classification_loss : 0.1438\n",
      "Accuracy: 0.9478 , AUC:  0.7697 , F1:  0.5714 , Precision:  1.0 , recall:  0.4\n",
      "Epoch: 43 , Total loss: 1.0269 , cos_loss :  0.9159 , classification_loss : 0.111\n"
     ]
    },
    {
     "name": "stderr",
     "output_type": "stream",
     "text": [
      " 22%|██▏       | 43/200 [02:28<08:57,  3.43s/it]"
     ]
    },
    {
     "name": "stdout",
     "output_type": "stream",
     "text": [
      "Epoch: 43 , valid loss: 1.06 , cos_loss :  0.9147 , classification_loss : 0.1453\n",
      "Accuracy: 0.949 , AUC:  0.7698 , F1:  0.5859 , Precision:  1.0 , recall:  0.4143\n",
      "Epoch: 44 , Total loss: 1.0281 , cos_loss :  0.9159 , classification_loss : 0.1121\n"
     ]
    },
    {
     "name": "stderr",
     "output_type": "stream",
     "text": [
      " 22%|██▏       | 44/200 [02:31<08:54,  3.43s/it]"
     ]
    },
    {
     "name": "stdout",
     "output_type": "stream",
     "text": [
      "Epoch: 44 , valid loss: 1.0574 , cos_loss :  0.9142 , classification_loss : 0.1432\n",
      "Accuracy: 0.9465 , AUC:  0.7856 , F1:  0.5657 , Precision:  0.9655 , recall:  0.4\n",
      "Epoch: 45 , Total loss: 1.0249 , cos_loss :  0.9158 , classification_loss : 0.1091\n"
     ]
    },
    {
     "name": "stderr",
     "output_type": "stream",
     "text": [
      " 22%|██▎       | 45/200 [02:35<08:55,  3.46s/it]"
     ]
    },
    {
     "name": "stdout",
     "output_type": "stream",
     "text": [
      "Epoch: 45 , valid loss: 1.0613 , cos_loss :  0.9138 , classification_loss : 0.1475\n",
      "Accuracy: 0.949 , AUC:  0.7687 , F1:  0.5941 , Precision:  0.9677 , recall:  0.4286\n",
      "Epoch: 46 , Total loss: 1.0316 , cos_loss :  0.9157 , classification_loss : 0.1159\n"
     ]
    },
    {
     "name": "stderr",
     "output_type": "stream",
     "text": [
      " 23%|██▎       | 46/200 [02:38<08:48,  3.43s/it]"
     ]
    },
    {
     "name": "stdout",
     "output_type": "stream",
     "text": [
      "Epoch: 46 , valid loss: 1.0625 , cos_loss :  0.9141 , classification_loss : 0.1484\n",
      "Accuracy: 0.9478 , AUC:  0.7787 , F1:  0.5962 , Precision:  0.9118 , recall:  0.4429\n",
      "Epoch: 47 , Total loss: 1.0283 , cos_loss :  0.9155 , classification_loss : 0.1128\n"
     ]
    },
    {
     "name": "stderr",
     "output_type": "stream",
     "text": [
      " 24%|██▎       | 47/200 [02:41<08:41,  3.41s/it]"
     ]
    },
    {
     "name": "stdout",
     "output_type": "stream",
     "text": [
      "Epoch: 47 , valid loss: 1.0607 , cos_loss :  0.9139 , classification_loss : 0.1469\n",
      "Accuracy: 0.9465 , AUC:  0.7742 , F1:  0.5657 , Precision:  0.9655 , recall:  0.4\n",
      "Epoch: 48 , Total loss: 1.0278 , cos_loss :  0.9155 , classification_loss : 0.1123\n"
     ]
    },
    {
     "name": "stderr",
     "output_type": "stream",
     "text": [
      " 24%|██▍       | 48/200 [02:45<08:41,  3.43s/it]"
     ]
    },
    {
     "name": "stdout",
     "output_type": "stream",
     "text": [
      "Epoch: 48 , valid loss: 1.0635 , cos_loss :  0.9143 , classification_loss : 0.1492\n",
      "Accuracy: 0.9478 , AUC:  0.774 , F1:  0.5714 , Precision:  1.0 , recall:  0.4\n",
      "Epoch: 49 , Total loss: 1.0294 , cos_loss :  0.9157 , classification_loss : 0.1138\n"
     ]
    },
    {
     "name": "stderr",
     "output_type": "stream",
     "text": [
      " 24%|██▍       | 49/200 [02:48<08:34,  3.41s/it]"
     ]
    },
    {
     "name": "stdout",
     "output_type": "stream",
     "text": [
      "Epoch: 49 , valid loss: 1.0631 , cos_loss :  0.914 , classification_loss : 0.1491\n",
      "Accuracy: 0.9478 , AUC:  0.777 , F1:  0.5714 , Precision:  1.0 , recall:  0.4\n",
      "Epoch: 50 , Total loss: 1.0248 , cos_loss :  0.9156 , classification_loss : 0.1092\n"
     ]
    },
    {
     "name": "stderr",
     "output_type": "stream",
     "text": [
      " 25%|██▌       | 50/200 [02:52<08:28,  3.39s/it]"
     ]
    },
    {
     "name": "stdout",
     "output_type": "stream",
     "text": [
      "Epoch: 50 , valid loss: 1.064 , cos_loss :  0.9137 , classification_loss : 0.1503\n",
      "Accuracy: 0.9478 , AUC:  0.7729 , F1:  0.58 , Precision:  0.9667 , recall:  0.4143\n",
      "Epoch: 51 , Total loss: 1.0278 , cos_loss :  0.9157 , classification_loss : 0.1121\n"
     ]
    },
    {
     "name": "stderr",
     "output_type": "stream",
     "text": [
      " 26%|██▌       | 51/200 [02:55<08:29,  3.42s/it]"
     ]
    },
    {
     "name": "stdout",
     "output_type": "stream",
     "text": [
      "Epoch: 51 , valid loss: 1.0623 , cos_loss :  0.9145 , classification_loss : 0.1478\n",
      "Accuracy: 0.9453 , AUC:  0.7835 , F1:  0.551 , Precision:  0.9643 , recall:  0.3857\n",
      "Epoch: 52 , Total loss: 1.0235 , cos_loss :  0.9159 , classification_loss : 0.1076\n"
     ]
    },
    {
     "name": "stderr",
     "output_type": "stream",
     "text": [
      " 26%|██▌       | 52/200 [02:58<08:23,  3.40s/it]"
     ]
    },
    {
     "name": "stdout",
     "output_type": "stream",
     "text": [
      "Epoch: 52 , valid loss: 1.0677 , cos_loss :  0.9142 , classification_loss : 0.1535\n",
      "Accuracy: 0.9478 , AUC:  0.7547 , F1:  0.5882 , Precision:  0.9375 , recall:  0.4286\n",
      "Epoch: 53 , Total loss: 1.0263 , cos_loss :  0.9156 , classification_loss : 0.1106\n"
     ]
    },
    {
     "name": "stderr",
     "output_type": "stream",
     "text": [
      " 26%|██▋       | 53/200 [03:02<08:17,  3.39s/it]"
     ]
    },
    {
     "name": "stdout",
     "output_type": "stream",
     "text": [
      "Epoch: 53 , valid loss: 1.0589 , cos_loss :  0.9143 , classification_loss : 0.1446\n",
      "Accuracy: 0.9478 , AUC:  0.7861 , F1:  0.5882 , Precision:  0.9375 , recall:  0.4286\n",
      "Epoch: 54 , Total loss: 1.0251 , cos_loss :  0.9158 , classification_loss : 0.1093\n"
     ]
    },
    {
     "name": "stderr",
     "output_type": "stream",
     "text": [
      " 27%|██▋       | 54/200 [03:05<08:18,  3.42s/it]"
     ]
    },
    {
     "name": "stdout",
     "output_type": "stream",
     "text": [
      "Epoch: 54 , valid loss: 1.0638 , cos_loss :  0.914 , classification_loss : 0.1498\n",
      "Accuracy: 0.9502 , AUC:  0.7746 , F1:  0.6 , Precision:  1.0 , recall:  0.4286\n",
      "Epoch: 55 , Total loss: 1.0232 , cos_loss :  0.9156 , classification_loss : 0.1076\n"
     ]
    },
    {
     "name": "stderr",
     "output_type": "stream",
     "text": [
      " 28%|██▊       | 55/200 [03:09<08:12,  3.40s/it]"
     ]
    },
    {
     "name": "stdout",
     "output_type": "stream",
     "text": [
      "Epoch: 55 , valid loss: 1.0622 , cos_loss :  0.9144 , classification_loss : 0.1478\n",
      "Accuracy: 0.9478 , AUC:  0.7857 , F1:  0.5882 , Precision:  0.9375 , recall:  0.4286\n",
      "Epoch: 56 , Total loss: 1.0213 , cos_loss :  0.9154 , classification_loss : 0.1059\n"
     ]
    },
    {
     "name": "stderr",
     "output_type": "stream",
     "text": [
      " 28%|██▊       | 56/200 [03:12<08:12,  3.42s/it]"
     ]
    },
    {
     "name": "stdout",
     "output_type": "stream",
     "text": [
      "Epoch: 56 , valid loss: 1.0652 , cos_loss :  0.9141 , classification_loss : 0.1511\n",
      "Accuracy: 0.9465 , AUC:  0.771 , F1:  0.5825 , Precision:  0.9091 , recall:  0.4286\n",
      "Epoch: 57 , Total loss: 1.0199 , cos_loss :  0.9155 , classification_loss : 0.1044\n"
     ]
    },
    {
     "name": "stderr",
     "output_type": "stream",
     "text": [
      " 28%|██▊       | 57/200 [03:15<08:06,  3.40s/it]"
     ]
    },
    {
     "name": "stdout",
     "output_type": "stream",
     "text": [
      "Epoch: 57 , valid loss: 1.0709 , cos_loss :  0.9139 , classification_loss : 0.157\n",
      "Accuracy: 0.9478 , AUC:  0.7829 , F1:  0.5714 , Precision:  1.0 , recall:  0.4\n",
      "Epoch: 58 , Total loss: 1.0283 , cos_loss :  0.9158 , classification_loss : 0.1125\n"
     ]
    },
    {
     "name": "stderr",
     "output_type": "stream",
     "text": [
      " 29%|██▉       | 58/200 [03:19<08:01,  3.39s/it]"
     ]
    },
    {
     "name": "stdout",
     "output_type": "stream",
     "text": [
      "Epoch: 58 , valid loss: 1.0626 , cos_loss :  0.9139 , classification_loss : 0.1487\n",
      "Accuracy: 0.949 , AUC:  0.7796 , F1:  0.5941 , Precision:  0.9677 , recall:  0.4286\n",
      "Epoch: 59 , Total loss: 1.0247 , cos_loss :  0.9156 , classification_loss : 0.1091\n"
     ]
    },
    {
     "name": "stderr",
     "output_type": "stream",
     "text": [
      " 30%|██▉       | 59/200 [03:22<08:02,  3.42s/it]"
     ]
    },
    {
     "name": "stdout",
     "output_type": "stream",
     "text": [
      "Epoch: 59 , valid loss: 1.0595 , cos_loss :  0.914 , classification_loss : 0.1455\n",
      "Accuracy: 0.949 , AUC:  0.7845 , F1:  0.6019 , Precision:  0.9394 , recall:  0.4429\n",
      "Epoch: 60 , Total loss: 1.0222 , cos_loss :  0.9156 , classification_loss : 0.1066\n"
     ]
    },
    {
     "name": "stderr",
     "output_type": "stream",
     "text": [
      " 30%|███       | 60/200 [03:26<07:57,  3.41s/it]"
     ]
    },
    {
     "name": "stdout",
     "output_type": "stream",
     "text": [
      "Epoch: 60 , valid loss: 1.0663 , cos_loss :  0.9142 , classification_loss : 0.1521\n",
      "Accuracy: 0.949 , AUC:  0.7744 , F1:  0.5941 , Precision:  0.9677 , recall:  0.4286\n",
      "Epoch: 61 , Total loss: 1.0227 , cos_loss :  0.9158 , classification_loss : 0.1069\n"
     ]
    },
    {
     "name": "stderr",
     "output_type": "stream",
     "text": [
      " 30%|███       | 61/200 [03:29<07:51,  3.39s/it]"
     ]
    },
    {
     "name": "stdout",
     "output_type": "stream",
     "text": [
      "Epoch: 61 , valid loss: 1.0632 , cos_loss :  0.914 , classification_loss : 0.1492\n",
      "Accuracy: 0.949 , AUC:  0.7802 , F1:  0.5941 , Precision:  0.9677 , recall:  0.4286\n",
      "Epoch: 62 , Total loss: 1.0187 , cos_loss :  0.9156 , classification_loss : 0.1031\n"
     ]
    },
    {
     "name": "stderr",
     "output_type": "stream",
     "text": [
      " 31%|███       | 62/200 [03:33<07:53,  3.43s/it]"
     ]
    },
    {
     "name": "stdout",
     "output_type": "stream",
     "text": [
      "Epoch: 62 , valid loss: 1.0618 , cos_loss :  0.9139 , classification_loss : 0.1479\n",
      "Accuracy: 0.949 , AUC:  0.7805 , F1:  0.5941 , Precision:  0.9677 , recall:  0.4286\n",
      "Epoch: 63 , Total loss: 1.0234 , cos_loss :  0.9155 , classification_loss : 0.108\n"
     ]
    },
    {
     "name": "stderr",
     "output_type": "stream",
     "text": [
      " 32%|███▏      | 63/200 [03:36<07:48,  3.42s/it]"
     ]
    },
    {
     "name": "stdout",
     "output_type": "stream",
     "text": [
      "Epoch: 63 , valid loss: 1.0673 , cos_loss :  0.9139 , classification_loss : 0.1534\n",
      "Accuracy: 0.9502 , AUC:  0.7791 , F1:  0.6 , Precision:  1.0 , recall:  0.4286\n",
      "Epoch: 64 , Total loss: 1.0219 , cos_loss :  0.9156 , classification_loss : 0.1063\n"
     ]
    },
    {
     "name": "stderr",
     "output_type": "stream",
     "text": [
      " 32%|███▏      | 64/200 [03:39<07:41,  3.39s/it]"
     ]
    },
    {
     "name": "stdout",
     "output_type": "stream",
     "text": [
      "Epoch: 64 , valid loss: 1.061 , cos_loss :  0.9139 , classification_loss : 0.1471\n",
      "Accuracy: 0.949 , AUC:  0.7861 , F1:  0.5941 , Precision:  0.9677 , recall:  0.4286\n",
      "Epoch: 65 , Total loss: 1.0185 , cos_loss :  0.9157 , classification_loss : 0.1027\n"
     ]
    },
    {
     "name": "stderr",
     "output_type": "stream",
     "text": [
      " 32%|███▎      | 65/200 [03:43<07:42,  3.42s/it]"
     ]
    },
    {
     "name": "stdout",
     "output_type": "stream",
     "text": [
      "Epoch: 65 , valid loss: 1.0651 , cos_loss :  0.9139 , classification_loss : 0.1512\n",
      "Accuracy: 0.949 , AUC:  0.7909 , F1:  0.5941 , Precision:  0.9677 , recall:  0.4286\n",
      "Epoch: 66 , Total loss: 1.0174 , cos_loss :  0.9156 , classification_loss : 0.1018\n"
     ]
    },
    {
     "name": "stderr",
     "output_type": "stream",
     "text": [
      " 33%|███▎      | 66/200 [03:46<07:35,  3.40s/it]"
     ]
    },
    {
     "name": "stdout",
     "output_type": "stream",
     "text": [
      "Epoch: 66 , valid loss: 1.0631 , cos_loss :  0.9139 , classification_loss : 0.1493\n",
      "Accuracy: 0.9502 , AUC:  0.7917 , F1:  0.6078 , Precision:  0.9688 , recall:  0.4429\n",
      "Epoch: 67 , Total loss: 1.02 , cos_loss :  0.9156 , classification_loss : 0.1044\n"
     ]
    },
    {
     "name": "stderr",
     "output_type": "stream",
     "text": [
      " 34%|███▎      | 67/200 [03:49<07:29,  3.38s/it]"
     ]
    },
    {
     "name": "stdout",
     "output_type": "stream",
     "text": [
      "Epoch: 67 , valid loss: 1.0649 , cos_loss :  0.9138 , classification_loss : 0.1511\n",
      "Accuracy: 0.949 , AUC:  0.7847 , F1:  0.5941 , Precision:  0.9677 , recall:  0.4286\n",
      "Epoch: 68 , Total loss: 1.0215 , cos_loss :  0.9153 , classification_loss : 0.1062\n"
     ]
    },
    {
     "name": "stderr",
     "output_type": "stream",
     "text": [
      " 34%|███▍      | 68/200 [03:53<07:29,  3.40s/it]"
     ]
    },
    {
     "name": "stdout",
     "output_type": "stream",
     "text": [
      "Epoch: 68 , valid loss: 1.0678 , cos_loss :  0.9141 , classification_loss : 0.1538\n",
      "Accuracy: 0.9502 , AUC:  0.7856 , F1:  0.6 , Precision:  1.0 , recall:  0.4286\n",
      "Epoch: 69 , Total loss: 1.0214 , cos_loss :  0.916 , classification_loss : 0.1054\n"
     ]
    },
    {
     "name": "stderr",
     "output_type": "stream",
     "text": [
      " 34%|███▍      | 69/200 [03:56<07:23,  3.39s/it]"
     ]
    },
    {
     "name": "stdout",
     "output_type": "stream",
     "text": [
      "Epoch: 69 , valid loss: 1.0625 , cos_loss :  0.9141 , classification_loss : 0.1484\n",
      "Accuracy: 0.9465 , AUC:  0.7903 , F1:  0.5905 , Precision:  0.8857 , recall:  0.4429\n",
      "Epoch: 70 , Total loss: 1.0211 , cos_loss :  0.9158 , classification_loss : 0.1053\n"
     ]
    },
    {
     "name": "stderr",
     "output_type": "stream",
     "text": [
      " 35%|███▌      | 70/200 [04:00<07:19,  3.38s/it]"
     ]
    },
    {
     "name": "stdout",
     "output_type": "stream",
     "text": [
      "Epoch: 70 , valid loss: 1.0623 , cos_loss :  0.9138 , classification_loss : 0.1485\n",
      "Accuracy: 0.949 , AUC:  0.7881 , F1:  0.6019 , Precision:  0.9394 , recall:  0.4429\n",
      "Epoch: 71 , Total loss: 1.0174 , cos_loss :  0.9156 , classification_loss : 0.1019\n"
     ]
    },
    {
     "name": "stderr",
     "output_type": "stream",
     "text": [
      " 36%|███▌      | 71/200 [04:03<07:18,  3.40s/it]"
     ]
    },
    {
     "name": "stdout",
     "output_type": "stream",
     "text": [
      "Epoch: 71 , valid loss: 1.0652 , cos_loss :  0.914 , classification_loss : 0.1512\n",
      "Accuracy: 0.949 , AUC:  0.7815 , F1:  0.6019 , Precision:  0.9394 , recall:  0.4429\n",
      "Epoch: 72 , Total loss: 1.0177 , cos_loss :  0.9156 , classification_loss : 0.1021\n"
     ]
    },
    {
     "name": "stderr",
     "output_type": "stream",
     "text": [
      " 36%|███▌      | 72/200 [04:06<07:13,  3.39s/it]"
     ]
    },
    {
     "name": "stdout",
     "output_type": "stream",
     "text": [
      "Epoch: 72 , valid loss: 1.061 , cos_loss :  0.9137 , classification_loss : 0.1473\n",
      "Accuracy: 0.949 , AUC:  0.7975 , F1:  0.5941 , Precision:  0.9677 , recall:  0.4286\n",
      "Epoch: 73 , Total loss: 1.0151 , cos_loss :  0.9156 , classification_loss : 0.0995\n"
     ]
    },
    {
     "name": "stderr",
     "output_type": "stream",
     "text": [
      " 36%|███▋      | 73/200 [04:10<07:08,  3.38s/it]"
     ]
    },
    {
     "name": "stdout",
     "output_type": "stream",
     "text": [
      "Epoch: 73 , valid loss: 1.0592 , cos_loss :  0.9139 , classification_loss : 0.1454\n",
      "Accuracy: 0.949 , AUC:  0.7931 , F1:  0.6019 , Precision:  0.9394 , recall:  0.4429\n",
      "Epoch: 74 , Total loss: 1.0183 , cos_loss :  0.9155 , classification_loss : 0.1027\n"
     ]
    },
    {
     "name": "stderr",
     "output_type": "stream",
     "text": [
      " 37%|███▋      | 74/200 [04:13<07:08,  3.40s/it]"
     ]
    },
    {
     "name": "stdout",
     "output_type": "stream",
     "text": [
      "Epoch: 74 , valid loss: 1.0641 , cos_loss :  0.9137 , classification_loss : 0.1504\n",
      "Accuracy: 0.9502 , AUC:  0.7854 , F1:  0.6078 , Precision:  0.9688 , recall:  0.4429\n",
      "Epoch: 75 , Total loss: 1.0197 , cos_loss :  0.9153 , classification_loss : 0.1043\n"
     ]
    },
    {
     "name": "stderr",
     "output_type": "stream",
     "text": [
      " 38%|███▊      | 75/200 [04:17<07:08,  3.43s/it]"
     ]
    },
    {
     "name": "stdout",
     "output_type": "stream",
     "text": [
      "Epoch: 75 , valid loss: 1.0652 , cos_loss :  0.9138 , classification_loss : 0.1514\n",
      "Accuracy: 0.949 , AUC:  0.7919 , F1:  0.5941 , Precision:  0.9677 , recall:  0.4286\n",
      "Epoch: 76 , Total loss: 1.0134 , cos_loss :  0.9156 , classification_loss : 0.0977\n"
     ]
    },
    {
     "name": "stderr",
     "output_type": "stream",
     "text": [
      " 38%|███▊      | 76/200 [04:20<07:06,  3.44s/it]"
     ]
    },
    {
     "name": "stdout",
     "output_type": "stream",
     "text": [
      "Epoch: 76 , valid loss: 1.0624 , cos_loss :  0.9138 , classification_loss : 0.1486\n",
      "Accuracy: 0.949 , AUC:  0.7899 , F1:  0.5941 , Precision:  0.9677 , recall:  0.4286\n",
      "Epoch: 77 , Total loss: 1.0162 , cos_loss :  0.9153 , classification_loss : 0.1009\n"
     ]
    },
    {
     "name": "stderr",
     "output_type": "stream",
     "text": [
      " 38%|███▊      | 77/200 [04:24<07:00,  3.42s/it]"
     ]
    },
    {
     "name": "stdout",
     "output_type": "stream",
     "text": [
      "Epoch: 77 , valid loss: 1.0604 , cos_loss :  0.9138 , classification_loss : 0.1466\n",
      "Accuracy: 0.949 , AUC:  0.798 , F1:  0.5941 , Precision:  0.9677 , recall:  0.4286\n",
      "Epoch: 78 , Total loss: 1.015 , cos_loss :  0.9156 , classification_loss : 0.0994\n"
     ]
    },
    {
     "name": "stderr",
     "output_type": "stream",
     "text": [
      " 39%|███▉      | 78/200 [04:27<06:56,  3.42s/it]"
     ]
    },
    {
     "name": "stdout",
     "output_type": "stream",
     "text": [
      "Epoch: 78 , valid loss: 1.0612 , cos_loss :  0.9138 , classification_loss : 0.1474\n",
      "Accuracy: 0.949 , AUC:  0.7987 , F1:  0.6019 , Precision:  0.9394 , recall:  0.4429\n",
      "Epoch: 79 , Total loss: 1.0155 , cos_loss :  0.9157 , classification_loss : 0.0998\n"
     ]
    },
    {
     "name": "stderr",
     "output_type": "stream",
     "text": [
      " 40%|███▉      | 79/200 [04:31<07:01,  3.48s/it]"
     ]
    },
    {
     "name": "stdout",
     "output_type": "stream",
     "text": [
      "Epoch: 79 , valid loss: 1.0645 , cos_loss :  0.914 , classification_loss : 0.1505\n",
      "Accuracy: 0.9465 , AUC:  0.7978 , F1:  0.5743 , Precision:  0.9355 , recall:  0.4143\n",
      "Epoch: 80 , Total loss: 1.0178 , cos_loss :  0.9156 , classification_loss : 0.1022\n"
     ]
    },
    {
     "name": "stderr",
     "output_type": "stream",
     "text": [
      " 40%|████      | 80/200 [04:34<07:07,  3.56s/it]"
     ]
    },
    {
     "name": "stdout",
     "output_type": "stream",
     "text": [
      "Epoch: 80 , valid loss: 1.0627 , cos_loss :  0.9136 , classification_loss : 0.149\n",
      "Accuracy: 0.949 , AUC:  0.793 , F1:  0.6019 , Precision:  0.9394 , recall:  0.4429\n",
      "Epoch: 81 , Total loss: 1.0176 , cos_loss :  0.9154 , classification_loss : 0.1022\n"
     ]
    },
    {
     "name": "stderr",
     "output_type": "stream",
     "text": [
      " 40%|████      | 81/200 [04:38<06:56,  3.50s/it]"
     ]
    },
    {
     "name": "stdout",
     "output_type": "stream",
     "text": [
      "Epoch: 81 , valid loss: 1.0688 , cos_loss :  0.9138 , classification_loss : 0.155\n",
      "Accuracy: 0.9415 , AUC:  0.7896 , F1:  0.5688 , Precision:  0.7949 , recall:  0.4429\n",
      "Epoch: 82 , Total loss: 1.0189 , cos_loss :  0.9156 , classification_loss : 0.1033\n"
     ]
    },
    {
     "name": "stderr",
     "output_type": "stream",
     "text": [
      " 41%|████      | 82/200 [04:41<06:52,  3.50s/it]"
     ]
    },
    {
     "name": "stdout",
     "output_type": "stream",
     "text": [
      "Epoch: 82 , valid loss: 1.0649 , cos_loss :  0.9137 , classification_loss : 0.1511\n",
      "Accuracy: 0.949 , AUC:  0.7947 , F1:  0.5941 , Precision:  0.9677 , recall:  0.4286\n",
      "Epoch: 83 , Total loss: 1.0146 , cos_loss :  0.9156 , classification_loss : 0.099\n"
     ]
    },
    {
     "name": "stderr",
     "output_type": "stream",
     "text": [
      " 42%|████▏     | 83/200 [04:45<06:45,  3.46s/it]"
     ]
    },
    {
     "name": "stdout",
     "output_type": "stream",
     "text": [
      "Epoch: 83 , valid loss: 1.0676 , cos_loss :  0.9136 , classification_loss : 0.154\n",
      "Accuracy: 0.9478 , AUC:  0.782 , F1:  0.5962 , Precision:  0.9118 , recall:  0.4429\n",
      "Epoch: 84 , Total loss: 1.0244 , cos_loss :  0.9151 , classification_loss : 0.1093\n"
     ]
    },
    {
     "name": "stderr",
     "output_type": "stream",
     "text": [
      " 42%|████▏     | 84/200 [04:48<06:39,  3.44s/it]"
     ]
    },
    {
     "name": "stdout",
     "output_type": "stream",
     "text": [
      "Epoch: 84 , valid loss: 1.0646 , cos_loss :  0.9131 , classification_loss : 0.1515\n",
      "Accuracy: 0.9465 , AUC:  0.7934 , F1:  0.5743 , Precision:  0.9355 , recall:  0.4143\n",
      "Epoch: 85 , Total loss: 1.0174 , cos_loss :  0.9154 , classification_loss : 0.1019\n"
     ]
    },
    {
     "name": "stderr",
     "output_type": "stream",
     "text": [
      " 42%|████▎     | 85/200 [04:51<06:37,  3.46s/it]"
     ]
    },
    {
     "name": "stdout",
     "output_type": "stream",
     "text": [
      "Epoch: 85 , valid loss: 1.0645 , cos_loss :  0.9139 , classification_loss : 0.1506\n",
      "Accuracy: 0.949 , AUC:  0.7882 , F1:  0.6019 , Precision:  0.9394 , recall:  0.4429\n",
      "Epoch: 86 , Total loss: 1.0207 , cos_loss :  0.9156 , classification_loss : 0.1052\n"
     ]
    },
    {
     "name": "stderr",
     "output_type": "stream",
     "text": [
      " 43%|████▎     | 86/200 [04:55<06:30,  3.42s/it]"
     ]
    },
    {
     "name": "stdout",
     "output_type": "stream",
     "text": [
      "Epoch: 86 , valid loss: 1.0637 , cos_loss :  0.9137 , classification_loss : 0.15\n",
      "Accuracy: 0.9465 , AUC:  0.7829 , F1:  0.5825 , Precision:  0.9091 , recall:  0.4286\n",
      "Epoch: 87 , Total loss: 1.0185 , cos_loss :  0.9153 , classification_loss : 0.1032\n"
     ]
    },
    {
     "name": "stderr",
     "output_type": "stream",
     "text": [
      " 44%|████▎     | 87/200 [04:58<06:28,  3.44s/it]"
     ]
    },
    {
     "name": "stdout",
     "output_type": "stream",
     "text": [
      "Epoch: 87 , valid loss: 1.0655 , cos_loss :  0.9136 , classification_loss : 0.1519\n",
      "Accuracy: 0.9428 , AUC:  0.79 , F1:  0.5741 , Precision:  0.8158 , recall:  0.4429\n",
      "Epoch: 88 , Total loss: 1.0137 , cos_loss :  0.9153 , classification_loss : 0.0984\n"
     ]
    },
    {
     "name": "stderr",
     "output_type": "stream",
     "text": [
      " 44%|████▍     | 88/200 [05:02<06:22,  3.42s/it]"
     ]
    },
    {
     "name": "stdout",
     "output_type": "stream",
     "text": [
      "Epoch: 88 , valid loss: 1.061 , cos_loss :  0.9137 , classification_loss : 0.1473\n",
      "Accuracy: 0.9453 , AUC:  0.7977 , F1:  0.5769 , Precision:  0.8824 , recall:  0.4286\n",
      "Epoch: 89 , Total loss: 1.0167 , cos_loss :  0.9154 , classification_loss : 0.1013\n"
     ]
    },
    {
     "name": "stderr",
     "output_type": "stream",
     "text": [
      " 44%|████▍     | 89/200 [05:05<06:17,  3.40s/it]"
     ]
    },
    {
     "name": "stdout",
     "output_type": "stream",
     "text": [
      "Epoch: 89 , valid loss: 1.0635 , cos_loss :  0.9133 , classification_loss : 0.1502\n",
      "Accuracy: 0.9465 , AUC:  0.7976 , F1:  0.5825 , Precision:  0.9091 , recall:  0.4286\n",
      "Epoch: 90 , Total loss: 1.0181 , cos_loss :  0.9153 , classification_loss : 0.1027\n"
     ]
    },
    {
     "name": "stderr",
     "output_type": "stream",
     "text": [
      " 45%|████▌     | 90/200 [05:08<06:16,  3.43s/it]"
     ]
    },
    {
     "name": "stdout",
     "output_type": "stream",
     "text": [
      "Epoch: 90 , valid loss: 1.0685 , cos_loss :  0.9138 , classification_loss : 0.1547\n",
      "Accuracy: 0.949 , AUC:  0.7851 , F1:  0.5941 , Precision:  0.9677 , recall:  0.4286\n",
      "Epoch: 91 , Total loss: 1.0128 , cos_loss :  0.9156 , classification_loss : 0.0972\n"
     ]
    },
    {
     "name": "stderr",
     "output_type": "stream",
     "text": [
      " 46%|████▌     | 91/200 [05:12<06:10,  3.40s/it]"
     ]
    },
    {
     "name": "stdout",
     "output_type": "stream",
     "text": [
      "Epoch: 91 , valid loss: 1.0649 , cos_loss :  0.9136 , classification_loss : 0.1513\n",
      "Accuracy: 0.949 , AUC:  0.7905 , F1:  0.6019 , Precision:  0.9394 , recall:  0.4429\n",
      "Epoch: 92 , Total loss: 1.0119 , cos_loss :  0.9155 , classification_loss : 0.0965\n"
     ]
    },
    {
     "name": "stderr",
     "output_type": "stream",
     "text": [
      " 46%|████▌     | 92/200 [05:15<06:05,  3.39s/it]"
     ]
    },
    {
     "name": "stdout",
     "output_type": "stream",
     "text": [
      "Epoch: 92 , valid loss: 1.0655 , cos_loss :  0.9137 , classification_loss : 0.1518\n",
      "Accuracy: 0.949 , AUC:  0.7889 , F1:  0.6019 , Precision:  0.9394 , recall:  0.4429\n",
      "Epoch: 93 , Total loss: 1.011 , cos_loss :  0.9153 , classification_loss : 0.0956\n"
     ]
    },
    {
     "name": "stderr",
     "output_type": "stream",
     "text": [
      " 46%|████▋     | 93/200 [05:19<06:05,  3.42s/it]"
     ]
    },
    {
     "name": "stdout",
     "output_type": "stream",
     "text": [
      "Epoch: 93 , valid loss: 1.0684 , cos_loss :  0.9136 , classification_loss : 0.1548\n",
      "Accuracy: 0.9465 , AUC:  0.7842 , F1:  0.5905 , Precision:  0.8857 , recall:  0.4429\n",
      "Epoch: 94 , Total loss: 1.012 , cos_loss :  0.9153 , classification_loss : 0.0967\n"
     ]
    },
    {
     "name": "stderr",
     "output_type": "stream",
     "text": [
      " 47%|████▋     | 94/200 [05:22<06:00,  3.40s/it]"
     ]
    },
    {
     "name": "stdout",
     "output_type": "stream",
     "text": [
      "Epoch: 94 , valid loss: 1.0691 , cos_loss :  0.9138 , classification_loss : 0.1553\n",
      "Accuracy: 0.949 , AUC:  0.7879 , F1:  0.6019 , Precision:  0.9394 , recall:  0.4429\n",
      "Epoch: 95 , Total loss: 1.0145 , cos_loss :  0.9154 , classification_loss : 0.0991\n"
     ]
    },
    {
     "name": "stderr",
     "output_type": "stream",
     "text": [
      " 48%|████▊     | 95/200 [05:25<05:55,  3.39s/it]"
     ]
    },
    {
     "name": "stdout",
     "output_type": "stream",
     "text": [
      "Epoch: 95 , valid loss: 1.0649 , cos_loss :  0.9137 , classification_loss : 0.1513\n",
      "Accuracy: 0.944 , AUC:  0.7927 , F1:  0.5714 , Precision:  0.8571 , recall:  0.4286\n",
      "Epoch: 96 , Total loss: 1.0128 , cos_loss :  0.9154 , classification_loss : 0.0975\n"
     ]
    },
    {
     "name": "stderr",
     "output_type": "stream",
     "text": [
      " 48%|████▊     | 95/200 [05:29<06:04,  3.47s/it]"
     ]
    },
    {
     "name": "stdout",
     "output_type": "stream",
     "text": [
      "Epoch: 96 , valid loss: 1.0699 , cos_loss :  0.9134 , classification_loss : 0.1565\n",
      "Accuracy: 0.9453 , AUC:  0.7846 , F1:  0.5849 , Precision:  0.8611 , recall:  0.4429\n",
      "Early stopping triggered at epoch 65\n",
      "Best Combined Score (AUC): 0.6078\n"
     ]
    },
    {
     "name": "stderr",
     "output_type": "stream",
     "text": [
      "\n"
     ]
    }
   ],
   "source": [
    "# 얼리 스타핑 설정\n",
    "num_epochs = 200\n",
    "patience = 30\n",
    "best_loss = float(\"inf\")\n",
    "counter = 0\n",
    "epoch_temp = 0\n",
    "\n",
    "best_f1 = 0.0\n",
    "best_combined_score = 0.0\n",
    "best_epoch = 0\n",
    "\n",
    "view_total_loss = []\n",
    "view_cos_loss = []\n",
    "view_classi_loss = []\n",
    "\n",
    "cos_lambda = 1\n",
    "classi_lambda = 1\n",
    "\n",
    "\n",
    "for epoch in tqdm(range(num_epochs)):\n",
    "    model_1.train()\n",
    "\n",
    "    total_train_loss = 0\n",
    "    total_cos_loss = 0\n",
    "    total_classi_loss = 0\n",
    "    total_const_loss = 0\n",
    "    # key_per_sample, origin_visit, origin_mask, origin_mask_code, origin_mask_final, next_visit, next_mask, next_mask_code, next_mask_final, label_per_sample\n",
    "    for batch_data in train_loader:\n",
    "        tr_labels = batch_data['label'].to(device)\n",
    "        optimizer.zero_grad()\n",
    "        output_1, next_visit_output_1, final_visit_classification_1, final_visit_1 = model_1(batch_data)\n",
    "        y = torch.ones(output_1.size(0), dtype=torch.float, device=device)\n",
    "        y = y.to(device)   \n",
    "        cosine_loss_mean_1 = cosine_embedding_loss(output_1, next_visit_output_1, y)\n",
    "        classification_loss_1 = criterion(final_visit_classification_1.squeeze(), tr_labels.long())\n",
    "        loss = (cos_lambda * cosine_loss_mean_1) + (classi_lambda * classification_loss_1)\n",
    "\n",
    "        loss.backward()\n",
    "        optimizer.step()\n",
    "        total_train_loss += loss.item()\n",
    "        total_cos_loss += (cosine_loss_mean_1.item())\n",
    "        total_classi_loss += (classification_loss_1.item())\n",
    "        # total_const_loss += train_const_loss.item()\n",
    "\n",
    "        view_total_loss.append(total_train_loss)\n",
    "        view_cos_loss.append(total_cos_loss)\n",
    "        view_classi_loss.append(total_classi_loss)\n",
    "\n",
    "    # 평균 손실 계산\n",
    "    avg_train_loss = total_train_loss / len(train_loader)\n",
    "    avg_cos_loss = total_cos_loss / len(train_loader)\n",
    "    avg_classi_loss = total_classi_loss / len(train_loader)\n",
    "\n",
    "    print(\"Epoch:\", epoch+1, \", Total loss:\", round(avg_train_loss, 4), \", cos_loss : \",\\\n",
    "          round(avg_cos_loss, 4), \", classification_loss :\",round(avg_classi_loss, 4))\n",
    "\n",
    "    model_1.eval()\n",
    "    total_val_loss = 0\n",
    "    total_val_cos_loss = 0\n",
    "    total_val_classi_loss = 0\n",
    "    total_val_const_loss = 0\n",
    "\n",
    "    val_labels_list = []\n",
    "    val_predictions_list = []\n",
    "    val_probabilities_list = []\n",
    "\n",
    "\n",
    "    with torch.no_grad():\n",
    "        for batch_data in valid_loader:\n",
    "            val_labels = batch_data['label'].to(device)\n",
    "            val_output_1, val_next_visit_output_1, val_final_visit_classification_1, val_final_visit_1 = model_1(batch_data)\n",
    "            \n",
    "            y_val = torch.ones(val_output_1.size(0), dtype=torch.float, device=device) \n",
    "            val_cosine_loss_mean_1 = cosine_embedding_loss(val_output_1, val_next_visit_output_1, y_val)\n",
    "            \n",
    "            classification_loss_val_1 = criterion(val_final_visit_classification_1.squeeze(), val_labels.long())            \n",
    "\n",
    "            val_loss = (cos_lambda * val_cosine_loss_mean_1) + (classi_lambda * classification_loss_val_1) \n",
    "            \n",
    "            total_val_loss += val_loss.item()\n",
    "            total_val_cos_loss += (val_cosine_loss_mean_1.item())\n",
    "            total_val_classi_loss += (classification_loss_val_1.item())\n",
    "            # total_val_const_loss += val_const_loss.item()\n",
    "\n",
    "            val_probs = F.softmax(val_final_visit_classification_1)\n",
    "            val_predictions = torch.max(val_probs, 1)[1].view((len(val_labels),))\n",
    "\n",
    "            val_labels_list.extend(val_labels.view(-1).cpu().numpy())\n",
    "            val_predictions_list.extend(val_predictions.cpu().numpy())\n",
    "            \n",
    "            ########\n",
    "            val_probabilities_list.extend(val_probs[:,1].cpu().numpy())\n",
    "            ######## \n",
    "            \n",
    "            \n",
    "        avg_val_loss = total_val_loss / len(valid_loader)\n",
    "        avg_val_cos_loss = total_val_cos_loss / len(valid_loader)\n",
    "        avg_val_classi_loss = total_val_classi_loss / len(valid_loader)\n",
    "\n",
    "    # 성능 지표 계산\n",
    "    accuracy = accuracy_score(val_labels_list, val_predictions_list)\n",
    "    auc = roc_auc_score(val_labels_list, val_probabilities_list)\n",
    "    f1 = f1_score(val_labels_list, val_predictions_list)\n",
    "    precision = precision_score(val_labels_list,val_predictions_list)\n",
    "    recall = recall_score(val_labels_list, val_predictions_list)\n",
    "\n",
    "    print(\"Epoch:\", epoch+1, \", valid loss:\", round(avg_val_loss, 4), \", cos_loss : \",\\\n",
    "          round(avg_val_cos_loss, 4), \", classification_loss :\",round(avg_val_classi_loss, 4))\n",
    "    print(\"Accuracy:\", round(accuracy,4), \", AUC: \", round(auc,4), \", F1: \", round(f1,4), \", Precision: \", round(precision,4), \", recall: \", round(recall,4))\n",
    "\n",
    "    current_auc = roc_auc_score(val_labels_list, val_probabilities_list)\n",
    "    current_f1 = f1_score(val_labels_list, val_predictions_list)\n",
    "    current_combined_score = current_f1\n",
    "\n",
    "    # 모델 저장 경로 설정\n",
    "    model_save_path = f'results'\n",
    "    date_dir = datetime.today().strftime(\"%Y%m%d\")\n",
    "    model_time =  datetime.today().strftime(\"%H%M%S\")\n",
    "    # 학습률과 분류 가중치를 파일명에 포함시키기 위한 문자열 포맷\n",
    "    model_filename_format = f'model_lr{lr}_classi{classi_lambda}_dim{ninp}_hid{nhid}_layer{nlayer}_epoch{{epoch}}_{{model}}_{{pe}}_{{gamma}}_{model_time}.pth'\n",
    "\n",
    "    # 모델 저장 폴더가 없으면 생성\n",
    "    os.makedirs(os.path.join(model_save_path, date_dir), exist_ok=True)\n",
    "\n",
    "    if current_combined_score > best_combined_score:\n",
    "        best_combined_score = current_combined_score\n",
    "        best_epoch = epoch\n",
    "        counter = 0\n",
    "        # 모델 저장 경로와 파일명을 결합하여 전체 파일 경로 생성\n",
    "        model_1_save_path = os.path.join(model_save_path, date_dir, model_filename_format.format(epoch=best_epoch, model=model_name, pe=pe, gamma=gamma))\n",
    "        # 모델 저장\n",
    "        torch.save(model_1.state_dict(), f'{model_1_save_path}')\n",
    "    else:\n",
    "        counter += 1\n",
    "\n",
    "    if counter >= patience:\n",
    "        print(\"Early stopping triggered at epoch {}\".format(best_epoch))\n",
    "        print(f\"Best Combined Score (AUC): {best_combined_score:.4f}\")\n",
    "        break"
   ]
  },
  {
   "cell_type": "code",
   "execution_count": 34,
   "id": "53f43ae6-37bc-4596-8850-20f8b29e5b9f",
   "metadata": {},
   "outputs": [],
   "source": [
    "# model_1_save_path = './results/20240423/model_lr0.001_classi1_dim64_hid256_layer5_epoch35_no_center_total_label_time_feature_0.5_180651.pth'"
   ]
  },
  {
   "cell_type": "code",
   "execution_count": 35,
   "id": "26e268b1-1d4d-4022-ad6d-becddafd5070",
   "metadata": {},
   "outputs": [
    {
     "name": "stderr",
     "output_type": "stream",
     "text": [
      "  0%|          | 0/2 [00:00<?, ?it/s]\n"
     ]
    },
    {
     "ename": "NameError",
     "evalue": "name 'batch_idx' is not defined",
     "output_type": "error",
     "traceback": [
      "\u001b[0;31m---------------------------------------------------------------------------\u001b[0m",
      "\u001b[0;31mNameError\u001b[0m                                 Traceback (most recent call last)",
      "Input \u001b[0;32mIn [35]\u001b[0m, in \u001b[0;36m<cell line: 16>\u001b[0;34m()\u001b[0m\n\u001b[1;32m     23\u001b[0m classification_loss_te_1 \u001b[38;5;241m=\u001b[39m criterion(te_final_visit_classification_1\u001b[38;5;241m.\u001b[39msqueeze(), te_labels\u001b[38;5;241m.\u001b[39mlong())\n\u001b[1;32m     24\u001b[0m te_loss \u001b[38;5;241m=\u001b[39m (cos_lambda \u001b[38;5;241m*\u001b[39m te_cosine_loss_mean_1) \u001b[38;5;241m+\u001b[39m (classi_lambda \u001b[38;5;241m*\u001b[39m classification_loss_te_1)\n\u001b[0;32m---> 26\u001b[0m \u001b[38;5;28;01mif\u001b[39;00m \u001b[43mbatch_idx\u001b[49m \u001b[38;5;241m==\u001b[39m \u001b[38;5;241m0\u001b[39m:\n\u001b[1;32m     27\u001b[0m     test_visit_embedding \u001b[38;5;241m=\u001b[39m te_final_visit_1\u001b[38;5;241m.\u001b[39mdetach()\u001b[38;5;241m.\u001b[39mcpu()\u001b[38;5;241m.\u001b[39mnumpy()\n\u001b[1;32m     28\u001b[0m     test_label_numpy \u001b[38;5;241m=\u001b[39m te_labels\u001b[38;5;241m.\u001b[39mdetach()\u001b[38;5;241m.\u001b[39mcpu()\u001b[38;5;241m.\u001b[39mnumpy()\n",
      "\u001b[0;31mNameError\u001b[0m: name 'batch_idx' is not defined"
     ]
    }
   ],
   "source": [
    "total_te_loss = 0\n",
    "total_te_cos_loss = 0\n",
    "total_te_classi_loss = 0\n",
    "total_te_const_loss = 0\n",
    "\n",
    "te_labels_list = []\n",
    "te_predictions_list = []\n",
    "te_probabilities_list = []\n",
    "\n",
    "model_1_path = model_1_save_path\n",
    "\n",
    "model_1.load_state_dict(torch.load(model_1_path))\n",
    "\n",
    "model_1.eval()\n",
    "\n",
    "with torch.no_grad():\n",
    "    for batch_data in tqdm(test_loader):\n",
    "        te_labels = batch_data['label'].to(device)\n",
    "        te_output_1, te_next_visit_output_1, te_final_visit_classification_1, te_final_visit_1 = model_1(batch_data)\n",
    "        y_te = torch.ones(te_output_1.size(0), dtype=torch.float, device=device)\n",
    "\n",
    "        te_cosine_loss_mean_1 = cosine_embedding_loss(te_output_1, te_next_visit_output_1, y_te)\n",
    "        classification_loss_te_1 = criterion(te_final_visit_classification_1.squeeze(), te_labels.long())\n",
    "        te_loss = (cos_lambda * te_cosine_loss_mean_1) + (classi_lambda * classification_loss_te_1)\n",
    "        \n",
    "        if batch_idx == 0:\n",
    "            test_visit_embedding = te_final_visit_1.detach().cpu().numpy()\n",
    "            test_label_numpy = te_labels.detach().cpu().numpy()\n",
    "        else:\n",
    "            add_visit_embedding = te_final_visit_1.detach().cpu().numpy()\n",
    "            add_label_numpy = te_labels.detach().cpu().numpy()\n",
    "            test_visit_embedding = np.concatenate((test_visit_embedding, add_visit_embedding), axis=0)\n",
    "            test_label_numpy = np.concatenate((test_label_numpy, add_label_numpy))\n",
    "        \n",
    "\n",
    "        total_te_loss += te_loss.item()\n",
    "        total_te_cos_loss += (te_cosine_loss_mean_1.item())\n",
    "        total_te_classi_loss += (classification_loss_te_1.item())\n",
    "\n",
    "        te_probs = F.softmax(te_final_visit_classification_1)\n",
    "        te_predictions = torch.max(te_probs, 1)[1].view((len(te_labels),))\n",
    "        \n",
    "        te_labels_list.extend(te_labels.view(-1).cpu().numpy())\n",
    "        te_predictions_list.extend(te_predictions.cpu().numpy())\n",
    "        te_probabilities_list.extend(te_probs[:,1].cpu().numpy())\n",
    "\n",
    "    avg_te_loss = total_te_loss / len(test_loader)\n",
    "    avg_te_cos_loss = total_te_cos_loss / len(test_loader)\n",
    "    avg_te_classi_loss = total_te_classi_loss / len(test_loader)"
   ]
  },
  {
   "cell_type": "code",
   "execution_count": null,
   "id": "fb65cd85-098a-4d1d-a05f-c9b698889b95",
   "metadata": {},
   "outputs": [],
   "source": [
    "# 성능 지표 계산\n",
    "accuracy = accuracy_score(te_labels_list, te_predictions_list)\n",
    "auc = roc_auc_score(te_labels_list, te_probabilities_list)\n",
    "f1 = f1_score(te_labels_list, te_predictions_list)\n",
    "precision = precision_score(te_labels_list,te_predictions_list)\n",
    "recall = recall_score(te_labels_list, te_predictions_list)\n",
    "\n",
    "print(\"test loss:\", round(avg_te_loss, 4), \", cos_loss : \", round(avg_te_cos_loss, 4),\n",
    "      \", classification_loss :\",round(avg_te_classi_loss, 4), \n",
    "      # \", contrastive_loss : \", round(avg_te_const_loss,4)\n",
    "     )\n",
    "print(\"Accuracy:\", round(accuracy,4), \", AUC: \", round(auc,4), \", F1: \", round(f1,4), \", Precision: \", round(precision,4), \", recall: \", round(recall,4))\n",
    "\n",
    "np.unique(te_labels_list,  return_counts=True)"
   ]
  },
  {
   "cell_type": "code",
   "execution_count": null,
   "id": "326bdeb1-7131-4383-96aa-5c5052859225",
   "metadata": {},
   "outputs": [],
   "source": [
    "confusion_matrix(te_labels_list, te_predictions_list)"
   ]
  },
  {
   "cell_type": "code",
   "execution_count": null,
   "id": "a352e01f-8592-4b70-bc1d-65861cd43e2c",
   "metadata": {},
   "outputs": [],
   "source": []
  },
  {
   "cell_type": "code",
   "execution_count": null,
   "id": "425d9c2c-9021-4aad-ab61-2f4f35764915",
   "metadata": {},
   "outputs": [],
   "source": []
  },
  {
   "cell_type": "code",
   "execution_count": null,
   "id": "d6f1dc62-c78a-4987-9f67-24cbcb566431",
   "metadata": {},
   "outputs": [],
   "source": []
  },
  {
   "cell_type": "code",
   "execution_count": 81,
   "id": "31ca1112-3330-4978-bb25-fa1331181ae6",
   "metadata": {},
   "outputs": [
    {
     "name": "stdout",
     "output_type": "stream",
     "text": [
      "results/20240424/model_lr0.001_classi1_dim64_hid256_layer5_epoch35_no_center_total_label_time_feature_0.5_140528.pth\n"
     ]
    }
   ],
   "source": [
    "print(model_1_path)"
   ]
  },
  {
   "cell_type": "code",
   "execution_count": 85,
   "id": "ea59b82a-545f-4d8a-9d7c-b4531f4f09a8",
   "metadata": {},
   "outputs": [
    {
     "name": "stderr",
     "output_type": "stream",
     "text": [
      "100%|██████████| 2/2 [00:00<00:00,  5.32it/s]\n"
     ]
    }
   ],
   "source": [
    "total_te_loss = 0\n",
    "total_te_cos_loss = 0\n",
    "total_te_classi_loss = 0\n",
    "total_te_const_loss = 0\n",
    "\n",
    "te_labels_list = []\n",
    "te_predictions_list = []\n",
    "te_probabilities_list = []\n",
    "\n",
    "model_1_path = model_1_save_path\n",
    "\n",
    "model_1.load_state_dict(torch.load(model_1_path))\n",
    "\n",
    "model_1.eval()\n",
    "\n",
    "with torch.no_grad():\n",
    "    for batch_data in tqdm(test_loader):\n",
    "        te_labels = batch_data['label'].to(device)\n",
    "        te_output_1, te_next_visit_output_1, te_final_visit_classification_1, te_final_visit_1 = model_1(batch_data)\n",
    "        y_te = torch.ones(te_output_1.size(0), dtype=torch.float, device=device)\n",
    "\n",
    "        te_cosine_loss_mean_1 = cosine_embedding_loss(te_output_1, te_next_visit_output_1, y_te)\n",
    "        classification_loss_te_1 = criterion(te_final_visit_classification_1.squeeze(), te_labels.long())\n",
    "        te_loss = (cos_lambda * te_cosine_loss_mean_1) + (classi_lambda * classification_loss_te_1) \n",
    "\n",
    "        total_te_loss += te_loss.item()\n",
    "        total_te_cos_loss += (te_cosine_loss_mean_1.item())\n",
    "        total_te_classi_loss += (classification_loss_te_1.item())\n",
    "\n",
    "        te_probs = F.softmax(te_final_visit_classification_1)\n",
    "        te_predictions = torch.max(te_probs, 1)[1].view((len(te_labels),))\n",
    "        \n",
    "        te_labels_list.extend(te_labels.view(-1).cpu().numpy())\n",
    "        te_predictions_list.extend(te_predictions.cpu().numpy())\n",
    "        te_probabilities_list.extend(te_probs[:,1].cpu().numpy())\n",
    "\n",
    "    avg_te_loss = total_te_loss / len(test_loader)\n",
    "    avg_te_cos_loss = total_te_cos_loss / len(test_loader)\n",
    "    avg_te_classi_loss = total_te_classi_loss / len(test_loader)"
   ]
  },
  {
   "cell_type": "code",
   "execution_count": 86,
   "id": "2a4a5d36-516a-47af-8edc-2db194e37eb3",
   "metadata": {},
   "outputs": [
    {
     "name": "stdout",
     "output_type": "stream",
     "text": [
      "test loss: 1.0313 , cos_loss :  0.9141 , classification_loss : 0.1172\n",
      "Accuracy: 0.9614 , AUC:  0.8807 , F1:  0.7156 , Precision:  1.0 , recall:  0.5571\n"
     ]
    },
    {
     "data": {
      "text/plain": [
       "(array([0, 1]), array([734,  70]))"
      ]
     },
     "execution_count": 86,
     "metadata": {},
     "output_type": "execute_result"
    }
   ],
   "source": [
    "# 성능 지표 계산\n",
    "accuracy = accuracy_score(te_labels_list, te_predictions_list)\n",
    "auc = roc_auc_score(te_labels_list, te_probabilities_list)\n",
    "f1 = f1_score(te_labels_list, te_predictions_list)\n",
    "precision = precision_score(te_labels_list,te_predictions_list)\n",
    "recall = recall_score(te_labels_list, te_predictions_list)\n",
    "\n",
    "print(\"test loss:\", round(avg_te_loss, 4), \", cos_loss : \", round(avg_te_cos_loss, 4),\n",
    "      \", classification_loss :\",round(avg_te_classi_loss, 4), \n",
    "      # \", contrastive_loss : \", round(avg_te_const_loss,4)\n",
    "     )\n",
    "print(\"Accuracy:\", round(accuracy,4), \", AUC: \", round(auc,4), \", F1: \", round(f1,4), \", Precision: \", round(precision,4), \", recall: \", round(recall,4))\n",
    "\n",
    "np.unique(te_labels_list,  return_counts=True)"
   ]
  },
  {
   "cell_type": "code",
   "execution_count": 87,
   "id": "59a45dbf-6a08-401e-a279-411c1e99c094",
   "metadata": {},
   "outputs": [],
   "source": [
    "log_path = './logs'\n",
    "logs = f'model_lr{lr}_classi{classi_lambda}_dim{ninp}_hid{nhid}_layer{nlayer}_epoch{{epoch}}_{{model}}_{{pe}}_{model_time}.txt'\n",
    "os.makedirs(os.path.join(log_path, date_dir), exist_ok=True)\n",
    "\n",
    "results = [accuracy, auc, f1, precision, recall]\n",
    "cm = confusion_matrix(te_labels_list, te_predictions_list)\n",
    "with open(os.path.join(log_path, date_dir, logs.format(epoch=best_epoch, model=model_name, pe=pe)), 'w') as f:\n",
    "    f.write(logs.format(epoch=best_epoch, model=model_name, pe=pe))\n",
    "    f.write('\\n')\n",
    "    f.write(str(results))\n",
    "    f.write('\\n')\n",
    "    f.write(str(cm))"
   ]
  },
  {
   "cell_type": "code",
   "execution_count": 88,
   "id": "d01e7e3b-c3e6-4813-8eeb-dfc111a65c3e",
   "metadata": {},
   "outputs": [
    {
     "data": {
      "text/plain": [
       "array([[734,   0],\n",
       "       [ 31,  39]])"
      ]
     },
     "execution_count": 88,
     "metadata": {},
     "output_type": "execute_result"
    }
   ],
   "source": [
    "confusion_matrix(te_labels_list, te_predictions_list)"
   ]
  },
  {
   "cell_type": "code",
   "execution_count": null,
   "id": "cb31a9c4-fe2d-45de-9c4f-9a6aa1285ea0",
   "metadata": {},
   "outputs": [],
   "source": []
  }
 ],
 "metadata": {
  "kernelspec": {
   "display_name": "Python 3 (ipykernel)",
   "language": "python",
   "name": "python3"
  },
  "language_info": {
   "codemirror_mode": {
    "name": "ipython",
    "version": 3
   },
   "file_extension": ".py",
   "mimetype": "text/x-python",
   "name": "python",
   "nbconvert_exporter": "python",
   "pygments_lexer": "ipython3",
   "version": "3.8.10"
  }
 },
 "nbformat": 4,
 "nbformat_minor": 5
}
